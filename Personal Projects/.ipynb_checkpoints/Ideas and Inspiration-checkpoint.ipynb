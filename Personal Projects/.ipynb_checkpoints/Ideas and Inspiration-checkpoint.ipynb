{
 "cells": [
  {
   "cell_type": "markdown",
   "metadata": {},
   "source": [
    "# Hey You! Look in 'ere\n",
    "\n",
    "[Interactive 3D Visualization in Jupyter | SciPy 2018 | Maarten Breddels](https://www.youtube.com/watch?v=hOKa8klJPyo)\n",
    "\n",
    "\n",
    "Some things I want to have a play around with:\n",
    "- bqplot\n",
    "- threejs \n",
    "- ipywidgets\n",
    "- Kaggle\n",
    "\n",
    "[Mental Health Statistics](https://www.health.govt.nz/nz-health-statistics/health-statistics-and-data-sets/mental-health-data-and-stats)"
   ]
  },
  {
   "cell_type": "code",
   "execution_count": null,
   "metadata": {},
   "outputs": [],
   "source": []
  }
 ],
 "metadata": {
  "kernelspec": {
   "display_name": "Python 3",
   "language": "python",
   "name": "python3"
  },
  "language_info": {
   "codemirror_mode": {
    "name": "ipython",
    "version": 3
   },
   "file_extension": ".py",
   "mimetype": "text/x-python",
   "name": "python",
   "nbconvert_exporter": "python",
   "pygments_lexer": "ipython3",
   "version": "3.7.1"
  }
 },
 "nbformat": 4,
 "nbformat_minor": 2
}
