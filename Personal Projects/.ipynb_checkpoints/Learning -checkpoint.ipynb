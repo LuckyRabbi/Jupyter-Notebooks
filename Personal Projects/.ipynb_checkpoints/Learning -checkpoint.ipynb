{
 "cells": [
  {
   "cell_type": "markdown",
   "metadata": {},
   "source": [
    "# Learning Outcomes\n",
    "\n",
    "A larger toolkit gives a prospective data scientist a lot more opportunity to utilise their skills - it is for this reason that I am intentionally learning a few different things to expland my horizons. Obviously Python is a must, however I plan to learn it much more specifically than a regular developer might.\n",
    "\n",
    "I want to learn Data Science, for this I will have to learn a few different things,\n",
    "\n",
    "## Python \n",
    "\n",
    "There are a number of libraries for Python that a Data Scientist ought to know, the first is Numpy which is a scientific computing package that provides an extrodinary number of features that are incredibly useful when working with data.\n",
    "\n",
    "### NumPy\n",
    "\n",
    "\n",
    "\n",
    "### Matplotlib\n",
    "\n",
    "- A resource from [RealPython](https://realpython.com/python-matplotlib-guide/) was immensely valuable for learning more about the matplotlib library\n",
    "\n",
    "### Pandas\n",
    "\n",
    "- For learning [Pandas] I will be uding Kaggle, as well as the guide that is mentioned in another notebook.\n",
    "\n",
    "### iPyWidgets\n",
    "\n",
    "### Magics\n",
    "\n",
    "I have somewhat discussed this in my Learning Jupyter Lab notebook, however I would like to expland this and add practical applications of the magics.\n",
    "\n",
    "## Statistics and Data Science Theory\n",
    "\n",
    "- Statistics, I will use [Khan Academy](https://www.kaggle.com/learn/pandas) and [edX](https://courses.edx.org/courses/course-v1:GTx+CSE6040x+2T2019/course/) a course hosted by Georgia Tech which is awesome.\n",
    " \n",
    "\n",
    "\n"
   ]
  },
  {
   "cell_type": "code",
   "execution_count": null,
   "metadata": {},
   "outputs": [],
   "source": []
  }
 ],
 "metadata": {
  "kernelspec": {
   "display_name": "Python 3",
   "language": "python",
   "name": "python3"
  },
  "language_info": {
   "codemirror_mode": {
    "name": "ipython",
    "version": 3
   },
   "file_extension": ".py",
   "mimetype": "text/x-python",
   "name": "python",
   "nbconvert_exporter": "python",
   "pygments_lexer": "ipython3",
   "version": "3.7.1"
  }
 },
 "nbformat": 4,
 "nbformat_minor": 2
}
