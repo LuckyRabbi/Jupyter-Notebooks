{
 "cells": [
  {
   "cell_type": "markdown",
   "metadata": {},
   "source": [
    "# Hey You! Look in 'ere\n",
    "\n",
    "**Cool Talks**\n",
    "[Interactive 3D Visualization in Jupyter | SciPy 2018 | Maarten Breddels](https://www.youtube.com/watch?v=hOKa8klJPyo)\n",
    "\n",
    "\n",
    "Some things I want to have a play around with:\n",
    "\n",
    "**Python**\n",
    "- [bqplot](https://bqplot.readthedocs.io/en/latest/) and the [GitHub](https://github.com/bloomberg/bqplot)\n",
    "- ipywidgets\n",
    "- [Kaggle](https://www.kaggle.com/)\n",
    "\n",
    "**Javascript**\n",
    "- [d3.js](https://d3js.org/) but there is also a [Python Implementation](https://github.com/ResidentMario/py_d3)\n",
    "\n",
    "**Datasets**\n",
    "- [Mental Health Statistics](https://www.health.govt.nz/nz-health-statistics/health-statistics-and-data-sets/mental-health-data-and-stats)\n",
    "- Labour shortage in New Zealand Meat Processes"
   ]
  },
  {
   "cell_type": "code",
   "execution_count": null,
   "metadata": {},
   "outputs": [],
   "source": []
  }
 ],
 "metadata": {
  "kernelspec": {
   "display_name": "Python 3",
   "language": "python",
   "name": "python3"
  },
  "language_info": {
   "codemirror_mode": {
    "name": "ipython",
    "version": 3
   },
   "file_extension": ".py",
   "mimetype": "text/x-python",
   "name": "python",
   "nbconvert_exporter": "python",
   "pygments_lexer": "ipython3",
   "version": "3.7.1"
  }
 },
 "nbformat": 4,
 "nbformat_minor": 2
}
