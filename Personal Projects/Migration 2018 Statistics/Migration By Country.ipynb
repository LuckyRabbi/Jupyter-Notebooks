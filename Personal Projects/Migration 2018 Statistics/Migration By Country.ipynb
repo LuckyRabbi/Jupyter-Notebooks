{
 "cells": [
  {
   "cell_type": "markdown",
   "metadata": {},
   "source": [
    "# Migration By Country\n",
    "\n",
    "Now that I've looked at net migration I wonder what the migration by country looks like. I think this time I will use an interactive element, showing the countries that you enter into a search box. So let's have a look at the data first.\n",
    "\n",
    "## The Data\n",
    "\n",
    "It looks like the last data set, where it has the count of arrival and departures by country this time, arriving and leaving and then the net migration over November 2015 to November 2018. So we have 3 months of data here.\n",
    "\n",
    "The data is already sorted by year and the country names are in alphabetical order, yay for clean data! So now I just need to render a few countries. The best place to start is somewhere simple like plotting Australian migration over the years.\n",
    "\n",
    "To get the **unique** values for the countries we can use one of the summary methods built in to pandas which is `.unique()`, this returns an array of unique values of a given column."
   ]
  },
  {
   "cell_type": "code",
   "execution_count": 14,
   "metadata": {},
   "outputs": [],
   "source": [
    "import pandas as pd\n",
    "import numpy as np\n",
    "import matplotlib.dates as mdates\n",
    "\n",
    "\n",
    "def get_dates(df, col=\"Period\"):\n",
    "    # Pass in a dataframe and get the dates from a column\n",
    "    return(pd.to_datetime(df[col].values, format=\"%Y%m\"))\n",
    "    \n",
    "# import the csv file\n",
    "raw = pd.read_csv(\"itm-oct18-plt-by-country_TEST.csv\")\n",
    "net_mig = raw[raw[\"Direction\"] == \"Net migration\"]\n",
    "\n",
    "# aus = net_mig[net_mig[\"Country\"] == \"Australia\"]\n",
    "\n",
    "dates = get_dates(net_mig)"
   ]
  },
  {
   "cell_type": "code",
   "execution_count": 15,
   "metadata": {},
   "outputs": [
    {
     "data": {
      "text/plain": [
       "<BarContainer object of 4766 artists>"
      ]
     },
     "execution_count": 15,
     "metadata": {},
     "output_type": "execute_result"
    },
    {
     "data": {
      "image/png": "[encoded data removed]",
      "text/plain": [
       "<Figure size 432x288 with 1 Axes>"
      ]
     },
     "metadata": {
      "needs_background": "light"
     },
     "output_type": "display_data"
    }
   ],
   "source": [
    "import matplotlib.pyplot as plt\n",
    "\n",
    "fig, ax = plt.subplots()\n",
    "\n",
    "ax.bar(dates, net_mig[\"Count\"],width=15)"
   ]
  },
  {
   "cell_type": "code",
   "execution_count": null,
   "metadata": {},
   "outputs": [],
   "source": []
  }
 ],
 "metadata": {
  "kernelspec": {
   "display_name": "Python 3",
   "language": "python",
   "name": "python3"
  },
  "language_info": {
   "codemirror_mode": {
    "name": "ipython",
    "version": 3
   },
   "file_extension": ".py",
   "mimetype": "text/x-python",
   "name": "python",
   "nbconvert_exporter": "python",
   "pygments_lexer": "ipython3",
   "version": "3.7.1"
  }
 },
 "nbformat": 4,
 "nbformat_minor": 2
}
