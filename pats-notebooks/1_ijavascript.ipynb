{
 "cells": [
  {
   "cell_type": "markdown",
   "metadata": {},
   "source": [
    "# **IJavascript Kernel**\n",
    "\n",
    "> Introduction to [IJavascript](http://n-riesco.github.io/ijavascript/) kernel and its implementation within Jupyter notebooks\n",
    "\n",
    "ijavascript repo: [n-riesco/ijavascript](https://github.com/n-riesco/ijavascript)\n",
    "jp-babel repo: [n-riesco/jp-babel](https://github.com/n-riesco/jp-babel)\n",
    "\n",
    "----"
   ]
  },
  {
   "cell_type": "code",
   "execution_count": 1,
   "metadata": {},
   "outputs": [
    {
     "data": {
      "text/plain": [
       "'Hello, Jupyter!'"
      ]
     },
     "execution_count": 1,
     "metadata": {},
     "output_type": "execute_result"
    }
   ],
   "source": [
    "var msg = [\"Hello\", \"Jupyter!\"].join(\", \");\n",
    "msg // send `msg` variable to stdout"
   ]
  },
  {
   "cell_type": "code",
   "execution_count": 2,
   "metadata": {},
   "outputs": [
    {
     "name": "stdout",
     "output_type": "stream",
     "text": [
      "Hello, Jupyter!\n"
     ]
    }
   ],
   "source": [
    "console.log(msg); // send `msg` variable as a string to stdout"
   ]
  },
  {
   "cell_type": "code",
   "execution_count": 3,
   "metadata": {},
   "outputs": [
    {
     "name": "stderr",
     "output_type": "stream",
     "text": [
      "Hello, Jupyter!\n"
     ]
    }
   ],
   "source": [
    "console.error(msg); // print an error message to stderr"
   ]
  },
  {
   "cell_type": "code",
   "execution_count": 4,
   "metadata": {},
   "outputs": [
    {
     "ename": "Error",
     "evalue": "error!",
     "execution_count": 4,
     "output_type": "error",
     "traceback": [
      "evalmachine.<anonymous>:1",
      "throw new Error(\"error!\"); // throw an error/exception to stderr",
      "^",
      "",
      "Error: error!",
      "    at evalmachine.<anonymous>:1:7",
      "    at Script.runInThisContext (vm.js:96:20)",
      "    at Object.runInThisContext (vm.js:303:38)",
      "    at run ([eval]:1002:15)",
      "    at onRunRequest ([eval]:829:18)",
      "    at onMessage ([eval]:789:13)",
      "    at process.emit (events.js:182:13)",
      "    at emit (internal/child_process.js:812:12)",
      "    at process._tickCallback (internal/process/next_tick.js:63:19)"
     ]
    }
   ],
   "source": [
    "throw new Error(\"error!\"); // throw an error/exception to stderr"
   ]
  },
  {
   "cell_type": "markdown",
   "metadata": {},
   "source": [
    "\n",
    "----\n",
    "\n",
    "## **Asynchronous Output**\n",
    "\n",
    "`Javascript` and `Node.JS` make heavy use of *asynchronous execution*. `IJavascript` lets you exercise these asynchronous capabilities, by both:\n",
    "\n",
    "* updating stdout and stderr asynchronously, or\n",
    "* providing an execution result asynchronously.\n",
    "\n",
    "### **Synchronous vs. Asynchronous Code**\n",
    "\n",
    "The term `asynchronous code` is used to refer to code that doesn't run immediately (code within callback functions). \n",
    "\n",
    "**Asynchronous code:**"
   ]
  },
  {
   "cell_type": "code",
   "execution_count": 5,
   "metadata": {},
   "outputs": [
    {
     "name": "stdout",
     "output_type": "stream",
     "text": [
      "Asynchronous code execution example\n"
     ]
    }
   ],
   "source": [
    "function sayHello() {\n",
    "    var msg  = \"Asynchronous code execution example\"\n",
    "    console.log(msg);\n",
    "}\n",
    "var t = setTimeout(sayHello, 1500); // wait 1.5 seconds before calling `sayHello` function"
   ]
  },
  {
   "cell_type": "markdown",
   "metadata": {},
   "source": [
    "**Synchronous code:**"
   ]
  },
  {
   "cell_type": "code",
   "execution_count": 6,
   "metadata": {},
   "outputs": [
    {
     "name": "stdout",
     "output_type": "stream",
     "text": [
      "Synchronous code execution example\n"
     ]
    }
   ],
   "source": [
    "function sayHello() {\n",
    "    var msg = \"Synchronous code execution example\"\n",
    "    console.log(msg);\n",
    "}\n",
    "sayHello(); // synchronous (instantly) call `sayHello` function"
   ]
  },
  {
   "cell_type": "markdown",
   "metadata": {},
   "source": [
    "\n",
    "----\n"
   ]
  }
 ],
 "metadata": {
  "kernelspec": {
   "display_name": "Javascript (Node.js)",
   "language": "javascript",
   "name": "javascript"
  },
  "language_info": {
   "file_extension": ".js",
   "mimetype": "application/javascript",
   "name": "javascript",
   "version": "10.15.0"
  }
 },
 "nbformat": 4,
 "nbformat_minor": 2
}
