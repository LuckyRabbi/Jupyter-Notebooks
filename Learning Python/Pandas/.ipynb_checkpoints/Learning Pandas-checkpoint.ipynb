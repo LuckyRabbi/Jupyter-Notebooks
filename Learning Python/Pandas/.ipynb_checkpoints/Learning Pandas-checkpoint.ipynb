{
 "cells": [
  {
   "cell_type": "markdown",
   "metadata": {},
   "source": [
    "# Learning Pandas\n",
    "\n",
    "[Pandas](https://pandas.pydata.org/) is a python library whose purpose is to make data processing and analysis easier than ever, these are explanatory notes on the subject and will largely draw on [this resource](https://media.readthedocs.org/pdf/pandasguide/latest/pandasguide.pdf). Before we embark on this journey I want to outline some motivation for learning this, first of all I am intensely interested in data and how it can be used for the greater good. \n",
    "\n",
    "Applications of the tools I am about to learn are:\n",
    "- Processing and analysing data\n",
    "- Collecting data with the intention of reducing cleaning time\n",
    "- Visualisations of large datasets\n",
    "\n",
    "So, let's get going shall we?\n",
    "\n",
    "First we will import pandas"
   ]
  },
  {
   "cell_type": "code",
   "execution_count": 2,
   "metadata": {},
   "outputs": [],
   "source": [
    "import pandas as pd"
   ]
  },
  {
   "cell_type": "markdown",
   "metadata": {},
   "source": [
    "# Chapter 1 - Pandas Basics\n",
    "\n",
    "Here I will discuss and apply foundational data structures of pandas, the Series and DataFrame.\n",
    "\n",
    "## Chapter 1.2 Series and DataFrames\n",
    "\n",
    "Pandas provides two very useful data structures for processing data, these are Series and Dataframes, which will be discussed in turn.\n",
    "\n",
    "### **Series**\n",
    "\n",
    "A Series is a one-dimensional array that can store mixed data types, any list, tuple or dictionary in Python can be converted to a Series by using the `pd.Series()` method. The **row labels** in a Series are called the index."
   ]
  },
  {
   "cell_type": "code",
   "execution_count": 3,
   "metadata": {},
   "outputs": [
    {
     "name": "stdout",
     "output_type": "stream",
     "text": [
      "0            AA\n",
      "1    2012-02-01\n",
      "2           100\n",
      "3          12.2\n",
      "dtype: object\n"
     ]
    }
   ],
   "source": [
    "# Converting a tuple to a series\n",
    "t = ('AA', '2012-02-01', 100, 12.2)\n",
    "ts = pd.Series(t)\n",
    "\n",
    "print(ts)"
   ]
  },
  {
   "cell_type": "code",
   "execution_count": 4,
   "metadata": {},
   "outputs": [
    {
     "name": "stdout",
     "output_type": "stream",
     "text": [
      "0            FB\n",
      "1    2001-08-02\n",
      "2            90\n",
      "3           3.2\n",
      "dtype: object\n"
     ]
    }
   ],
   "source": [
    "# Converting a list to a series\n",
    "l = ['FB','2001-08-02', 90, 3.2]\n",
    "ls = pd.Series(l)\n",
    "\n",
    "print(ls)"
   ]
  },
  {
   "cell_type": "markdown",
   "metadata": {},
   "source": [
    "Note that when converting a tuple or a list to a series, the index names are automatically set to be 0,1,2... however we can change this by assigning the index."
   ]
  },
  {
   "cell_type": "code",
   "execution_count": 5,
   "metadata": {},
   "outputs": [
    {
     "name": "stdout",
     "output_type": "stream",
     "text": [
      "name              FB\n",
      "date      2001-08-02\n",
      "shares            90\n",
      "price            3.2\n",
      "dtype: object\n"
     ]
    }
   ],
   "source": [
    "# Give the series a custom index\n",
    "ls = pd.Series(l, index=['name','date','shares','price'])\n",
    "\n",
    "print(ls)"
   ]
  },
  {
   "cell_type": "code",
   "execution_count": 6,
   "metadata": {},
   "outputs": [
    {
     "name": "stdout",
     "output_type": "stream",
     "text": [
      "name             IBM\n",
      "date      2016-04-08\n",
      "shares           100\n",
      "price           10.2\n",
      "dtype: object\n"
     ]
    }
   ],
   "source": [
    "# Converting a dictionary to a series\n",
    "d = {'name':'IBM', 'date':'2016-04-08','shares':100,'price':10.2}\n",
    "ds = pd.Series(d)\n",
    "\n",
    "print(ds)"
   ]
  },
  {
   "cell_type": "markdown",
   "metadata": {},
   "source": [
    "#### Accessing Elements of a Series\n",
    "\n",
    "We can access elements of a series either by using the index name or the index value, e.g. `ls['shares']` or `ds[1]`. We can also access slices of the Series or multiple values in a given row of data using standard slicing notation."
   ]
  },
  {
   "cell_type": "code",
   "execution_count": 7,
   "metadata": {},
   "outputs": [
    {
     "name": "stdout",
     "output_type": "stream",
     "text": [
      "90 \n",
      "\n",
      "name              FB\n",
      "date      2001-08-02\n",
      "shares            90\n",
      "dtype: object\n"
     ]
    }
   ],
   "source": [
    "print(ls['shares'],\"\\n\")\n",
    "print(ls[0:3])"
   ]
  },
  {
   "cell_type": "markdown",
   "metadata": {},
   "source": [
    "### **DataFrames**\n",
    "\n",
    "A DataFrame is very similar to a Series but it is two-dimensional data, with both row-name and column-name attributed to it. It is an important data structure in Pandas because all text and spreadsheet files are interpreted as a DataFrame.\n",
    "\n",
    "The most common way to create a DataFrame is to use a dictionary of equal length which is shown below and then applying the `pd.DataFrame()` method to convert it to a DataFrame."
   ]
  },
  {
   "cell_type": "code",
   "execution_count": 8,
   "metadata": {},
   "outputs": [
    {
     "name": "stdout",
     "output_type": "stream",
     "text": [
      "  name        date  shares  price\n",
      "0   AA  2001-12-01     100   12.1\n",
      "1   BB  2012-02-10     950  130.0\n",
      "2   CC  2010-04-09      35   55.0\n",
      "3   DD  2018-06-03      65   16.0\n"
     ]
    }
   ],
   "source": [
    "# Creating a dictionary\n",
    "data = {\n",
    "    'name':['AA','BB','CC','DD'],\n",
    "    'date':['2001-12-01','2012-02-10','2010-04-09','2018-06-03'],\n",
    "    'shares':[100,950,35,65],\n",
    "    'price':[12.1,130,55.,16.]\n",
    "}\n",
    "# Converting it to a dataframe.\n",
    "df = pd.DataFrame(data)\n",
    "\n",
    "print(df)"
   ]
  },
  {
   "cell_type": "markdown",
   "metadata": {},
   "source": [
    "#### Manipulating DataFrames\n",
    "\n",
    "We can change the dataframe in a variety of ways, for example we can create a new column by"
   ]
  },
  {
   "cell_type": "code",
   "execution_count": 9,
   "metadata": {},
   "outputs": [
    {
     "name": "stdout",
     "output_type": "stream",
     "text": [
      "  name        date  shares  price  ligma\n",
      "0   AA  2001-12-01     100   12.1  balls\n",
      "1   BB  2012-02-10     950  130.0  balls\n",
      "2   CC  2010-04-09      35   55.0  balls\n",
      "3   DD  2018-06-03      65   16.0  balls\n"
     ]
    }
   ],
   "source": [
    "df['ligma'] = 'balls'\n",
    "\n",
    "print(df)"
   ]
  },
  {
   "cell_type": "markdown",
   "metadata": {},
   "source": [
    "By default the indexes are 0,1,2... again, however we can change this by changing the `df.index` attribute"
   ]
  },
  {
   "cell_type": "code",
   "execution_count": 10,
   "metadata": {},
   "outputs": [
    {
     "name": "stdout",
     "output_type": "stream",
     "text": [
      "      name        date  shares  price  ligma\n",
      "one     AA  2001-12-01     100   12.1  balls\n",
      "two     BB  2012-02-10     950  130.0  balls\n",
      "three   CC  2010-04-09      35   55.0  balls\n",
      "four    DD  2018-06-03      65   16.0  balls\n"
     ]
    }
   ],
   "source": [
    "df.index = ['one', 'two', 'three', 'four']\n",
    "print(df)"
   ]
  },
  {
   "cell_type": "markdown",
   "metadata": {},
   "source": [
    "#### "
   ]
  },
  {
   "cell_type": "markdown",
   "metadata": {},
   "source": [
    "# Chapter 2 - Functionality of Pandas\n",
    "\n",
    "In this section we will explore the basic functionality of Pandas, including reading CSV files, doing operations on data, functions in Pandas and many more.\n",
    "\n",
    "Included in this section are two files, cast.csv and titles.csv which are two large CSV files which I will work with.\n",
    "\n",
    "## **2.1 - Reading CSV Files**\n",
    "\n",
    "A core method in Pandas is `pd.read_csv()`, this allows us to store the CSV as a variable in python, I will start by reading the cast.csv file, I will pass in the argument `index_col = None` which tells the function that the first column of the csv is data, there are no row indexes.\n",
    "\n",
    "When the CSV file is read, the variable will be saved as a DataFrame, so all of the last chapter applies to this. \n",
    "\n",
    "To take a brief look at the data the methods `head()` and `tail()` will show the first and last 5 elements of the variable respectively. You can also pass in a natural number value to set how many elements are displayed.\n",
    "\n",
    "If we choose to inspect the csv file by simply calling the object then the first 30 and last 20 elements will be displayed, we can change this by calling the `.set_option()` method. Take a look at the [documentation](https://pandas.pydata.org/pandas-docs/stable/generated/pandas.set_option.html) to read more about how to do this.\n",
    "\n",
    "The `len()` method will tell you how many elements there are in the csv file.\n"
   ]
  },
  {
   "cell_type": "code",
   "execution_count": 11,
   "metadata": {},
   "outputs": [
    {
     "name": "stdout",
     "output_type": "stream",
     "text": [
      "                  title  year      name   type                character     n\n",
      "0        Closet Monster  2015  Buffy #1  actor                  Buffy 4  31.0\n",
      "1       Suuri illusioni  1985    Homo $  actor                   Guests  22.0\n",
      "2   Battle of the Sexes  2017   $hutter  actor          Bobby Riggs Fan  10.0\n",
      "3  Secret in Their Eyes  2015   $hutter  actor          2002 Dodger Fan   NaN\n",
      "4            Steve Jobs  2015   $hutter  actor  1988 Opera House Patron   NaN\n",
      "                      title  year\n",
      "49995                 Rebel  1970\n",
      "49996               Suzanne  1996\n",
      "49997                 Bomba  2013\n",
      "49998  Aao Jao Ghar Tumhara  1984\n",
      "49999            Mrs. Munck  1995\n"
     ]
    }
   ],
   "source": [
    "# Read the cast csv file\n",
    "cast = pd.read_csv('cast.csv', index_col = None)\n",
    "print(cast.head())\n",
    "\n",
    "# Read the titles csv file\n",
    "title = pd.read_csv('titles.csv', index_col = None)\n",
    "print(title.tail())\n"
   ]
  },
  {
   "cell_type": "markdown",
   "metadata": {},
   "source": [
    "## **2.2 Data Operations**\n",
    "\n",
    "We often aren't satisfied with the raw data that we have, or it doesn't suit our particular purpose right off the bat, so we may have to manipulate the data in various ways until we have a result that is useful. In this section we will explore some such methods for doing this.\n",
    "\n",
    "### 2.2.1 Selecting Rows and Columns\n",
    "\n",
    "Any row or column can be selected by passing in the name of the row or column, e.g. `title['title']` will create a one-dimensional array (a Series) that contains all of the titles, we can further select items by slicing the array if we'd like to.\n",
    "\n",
    "We can also select a row from the DataFrame by using the `loc` command."
   ]
  },
  {
   "cell_type": "code",
   "execution_count": 12,
   "metadata": {},
   "outputs": [
    {
     "data": {
      "text/plain": [
       "title    Country\n",
       "year        2000\n",
       "Name: 3, dtype: object"
      ]
     },
     "execution_count": 12,
     "metadata": {},
     "output_type": "execute_result"
    }
   ],
   "source": [
    "# Print the first 10 elements of the title row\n",
    "title['title'][0:10]\n",
    "title.loc[3]"
   ]
  },
  {
   "cell_type": "markdown",
   "metadata": {},
   "source": [
    "### 2.2.2 Filtering Data\n",
    "\n",
    "We can also filter data by passing in a boolean command to select values from the DataFrame that correspond to a particular value. For example, we can get all of the movies released in the year 2001 and save them as a new DataFrame.\n",
    "\n",
    "We could also have multiple boolean statements to filter out between certain years in this example."
   ]
  },
  {
   "cell_type": "code",
   "execution_count": 13,
   "metadata": {},
   "outputs": [
    {
     "data": {
      "text/html": [
       "<div>\n",
       "<style scoped>\n",
       "    .dataframe tbody tr th:only-of-type {\n",
       "        vertical-align: middle;\n",
       "    }\n",
       "\n",
       "    .dataframe tbody tr th {\n",
       "        vertical-align: top;\n",
       "    }\n",
       "\n",
       "    .dataframe thead th {\n",
       "        text-align: right;\n",
       "    }\n",
       "</style>\n",
       "<table border=\"1\" class=\"dataframe\">\n",
       "  <thead>\n",
       "    <tr style=\"text-align: right;\">\n",
       "      <th></th>\n",
       "      <th>title</th>\n",
       "      <th>year</th>\n",
       "    </tr>\n",
       "  </thead>\n",
       "  <tbody>\n",
       "    <tr>\n",
       "      <th>28</th>\n",
       "      <td>Tera Mera Saath Rahen</td>\n",
       "      <td>2001</td>\n",
       "    </tr>\n",
       "    <tr>\n",
       "      <th>34</th>\n",
       "      <td>Nariman</td>\n",
       "      <td>2001</td>\n",
       "    </tr>\n",
       "    <tr>\n",
       "      <th>351</th>\n",
       "      <td>The Long Run</td>\n",
       "      <td>2001</td>\n",
       "    </tr>\n",
       "    <tr>\n",
       "      <th>353</th>\n",
       "      <td>Familjehemligheter</td>\n",
       "      <td>2001</td>\n",
       "    </tr>\n",
       "    <tr>\n",
       "      <th>398</th>\n",
       "      <td>Amorseko: Damong ligaw</td>\n",
       "      <td>2001</td>\n",
       "    </tr>\n",
       "  </tbody>\n",
       "</table>\n",
       "</div>"
      ],
      "text/plain": [
       "                      title  year\n",
       "28    Tera Mera Saath Rahen  2001\n",
       "34                  Nariman  2001\n",
       "351            The Long Run  2001\n",
       "353      Familjehemligheter  2001\n",
       "398  Amorseko: Damong ligaw  2001"
      ]
     },
     "execution_count": 13,
     "metadata": {},
     "output_type": "execute_result"
    }
   ],
   "source": [
    "# Filter out the movies that are made in 2001\n",
    "mov01 = title[title['year'] == 2001]\n",
    "mov01.head()"
   ]
  },
  {
   "cell_type": "markdown",
   "metadata": {},
   "source": [
    "### 2.2.3 Sorting\n",
    "\n",
    "There are two crucial methods for sorting data in pandas, by default when we filter out values the resulting DataFrame is sorted by index values, more explicitly the method `sort_index()` is applied, so the if we were to apply this on the mov01 object it would have no effect. We can also sort by particular values by using the `sort_values()` method.\n",
    "\n",
    "Shown below are both of these methods, first on the mov01 object and then on all "
   ]
  },
  {
   "cell_type": "code",
   "execution_count": 15,
   "metadata": {},
   "outputs": [
    {
     "data": {
      "text/html": [
       "<div>\n",
       "<style scoped>\n",
       "    .dataframe tbody tr th:only-of-type {\n",
       "        vertical-align: middle;\n",
       "    }\n",
       "\n",
       "    .dataframe tbody tr th {\n",
       "        vertical-align: top;\n",
       "    }\n",
       "\n",
       "    .dataframe thead th {\n",
       "        text-align: right;\n",
       "    }\n",
       "</style>\n",
       "<table border=\"1\" class=\"dataframe\">\n",
       "  <thead>\n",
       "    <tr style=\"text-align: right;\">\n",
       "      <th></th>\n",
       "      <th>title</th>\n",
       "      <th>year</th>\n",
       "    </tr>\n",
       "  </thead>\n",
       "  <tbody>\n",
       "    <tr>\n",
       "      <th>4226</th>\n",
       "      <td>Macbeth</td>\n",
       "      <td>1913</td>\n",
       "    </tr>\n",
       "    <tr>\n",
       "      <th>9322</th>\n",
       "      <td>Macbeth</td>\n",
       "      <td>2006</td>\n",
       "    </tr>\n",
       "    <tr>\n",
       "      <th>11722</th>\n",
       "      <td>Macbeth</td>\n",
       "      <td>2013</td>\n",
       "    </tr>\n",
       "    <tr>\n",
       "      <th>17166</th>\n",
       "      <td>Macbeth</td>\n",
       "      <td>1997</td>\n",
       "    </tr>\n",
       "    <tr>\n",
       "      <th>25847</th>\n",
       "      <td>Macbeth</td>\n",
       "      <td>1998</td>\n",
       "    </tr>\n",
       "  </tbody>\n",
       "</table>\n",
       "</div>"
      ],
      "text/plain": [
       "         title  year\n",
       "4226   Macbeth  1913\n",
       "9322   Macbeth  2006\n",
       "11722  Macbeth  2013\n",
       "17166  Macbeth  1997\n",
       "25847  Macbeth  1998"
      ]
     },
     "execution_count": 15,
     "metadata": {},
     "output_type": "execute_result"
    }
   ],
   "source": [
    "mac = title[title['title'] == 'Macbeth']\n",
    "mac.head()"
   ]
  },
  {
   "cell_type": "markdown",
   "metadata": {},
   "source": [
    "We can also sort by the values of a column, this is useful if we are wanting to sort alphabetically or numerically depending on the data type."
   ]
  },
  {
   "cell_type": "code",
   "execution_count": 17,
   "metadata": {},
   "outputs": [
    {
     "data": {
      "text/html": [
       "<div>\n",
       "<style scoped>\n",
       "    .dataframe tbody tr th:only-of-type {\n",
       "        vertical-align: middle;\n",
       "    }\n",
       "\n",
       "    .dataframe tbody tr th {\n",
       "        vertical-align: top;\n",
       "    }\n",
       "\n",
       "    .dataframe thead th {\n",
       "        text-align: right;\n",
       "    }\n",
       "</style>\n",
       "<table border=\"1\" class=\"dataframe\">\n",
       "  <thead>\n",
       "    <tr style=\"text-align: right;\">\n",
       "      <th></th>\n",
       "      <th>title</th>\n",
       "      <th>year</th>\n",
       "    </tr>\n",
       "  </thead>\n",
       "  <tbody>\n",
       "    <tr>\n",
       "      <th>4226</th>\n",
       "      <td>Macbeth</td>\n",
       "      <td>1913</td>\n",
       "    </tr>\n",
       "    <tr>\n",
       "      <th>17166</th>\n",
       "      <td>Macbeth</td>\n",
       "      <td>1997</td>\n",
       "    </tr>\n",
       "    <tr>\n",
       "      <th>25847</th>\n",
       "      <td>Macbeth</td>\n",
       "      <td>1998</td>\n",
       "    </tr>\n",
       "    <tr>\n",
       "      <th>9322</th>\n",
       "      <td>Macbeth</td>\n",
       "      <td>2006</td>\n",
       "    </tr>\n",
       "    <tr>\n",
       "      <th>11722</th>\n",
       "      <td>Macbeth</td>\n",
       "      <td>2013</td>\n",
       "    </tr>\n",
       "  </tbody>\n",
       "</table>\n",
       "</div>"
      ],
      "text/plain": [
       "         title  year\n",
       "4226   Macbeth  1913\n",
       "17166  Macbeth  1997\n",
       "25847  Macbeth  1998\n",
       "9322   Macbeth  2006\n",
       "11722  Macbeth  2013"
      ]
     },
     "execution_count": 17,
     "metadata": {},
     "output_type": "execute_result"
    }
   ],
   "source": [
    "mac = title[title['title']=='Macbeth'].sort_values('year')\n",
    "mac.head()"
   ]
  },
  {
   "cell_type": "markdown",
   "metadata": {},
   "source": [
    "### 2.2.4  Null Values\n",
    "\n",
    "Dealing with empyt values in datasets is important, often with data some fields will have no entry, this will be stored as NaN when pandas reads the csv file, if we are looking at cast.csv we notice that the 3rd and 4th rows have no entry in the n column. \n",
    "\n",
    "Two useful methods for pulling out values that are empty are `isnull` and `notnull`; these methods return the cells that meet the criteria, in this case, being null values. If we simply call it on the DataFrame is returns a DataFrame occupied by the boolean values of the cells, that is, whether or not they are null values.\n",
    "\n",
    "Calling the method on a single column will of course return a series. This can be extremely valuable for cleaning data sets."
   ]
  },
  {
   "cell_type": "code",
   "execution_count": 24,
   "metadata": {},
   "outputs": [
    {
     "name": "stdout",
     "output_type": "stream",
     "text": [
      "   title   year   name   type  character      n\n",
      "0  False  False  False  False      False  False\n",
      "1  False  False  False  False      False  False\n",
      "2  False  False  False  False      False  False\n",
      "3  False  False  False  False      False   True\n",
      "4  False  False  False  False      False   True\n",
      "   title  year  name  type  character      n\n",
      "0   True  True  True  True       True   True\n",
      "1   True  True  True  True       True   True\n",
      "2   True  True  True  True       True   True\n",
      "3   True  True  True  True       True  False\n",
      "4   True  True  True  True       True  False\n",
      "0    False\n",
      "1    False\n",
      "2    False\n",
      "3     True\n",
      "4     True\n",
      "Name: n, dtype: bool\n"
     ]
    }
   ],
   "source": [
    "# Calling isnull() and notnull() on the cast csv\n",
    "print(cast.isnull().head())\n",
    "print(cast.notnull().head())\n",
    "\n",
    "# Calling the isnull() on a single column\n",
    "print(cast['n'].isnull().head())"
   ]
  },
  {
   "cell_type": "markdown",
   "metadata": {},
   "source": [
    "Like with R, in order to show the rows that meet specific conditions, this must be passed into the DataFrame. We will use this to fill the values that are empty with something else, there are a few methods for doing this such as `fillna`, `ffill`, `bfill` and some others."
   ]
  },
  {
   "cell_type": "code",
   "execution_count": 26,
   "metadata": {},
   "outputs": [
    {
     "data": {
      "text/html": [
       "<div>\n",
       "<style scoped>\n",
       "    .dataframe tbody tr th:only-of-type {\n",
       "        vertical-align: middle;\n",
       "    }\n",
       "\n",
       "    .dataframe tbody tr th {\n",
       "        vertical-align: top;\n",
       "    }\n",
       "\n",
       "    .dataframe thead th {\n",
       "        text-align: right;\n",
       "    }\n",
       "</style>\n",
       "<table border=\"1\" class=\"dataframe\">\n",
       "  <thead>\n",
       "    <tr style=\"text-align: right;\">\n",
       "      <th></th>\n",
       "      <th>title</th>\n",
       "      <th>year</th>\n",
       "      <th>name</th>\n",
       "      <th>type</th>\n",
       "      <th>character</th>\n",
       "      <th>n</th>\n",
       "    </tr>\n",
       "  </thead>\n",
       "  <tbody>\n",
       "    <tr>\n",
       "      <th>3</th>\n",
       "      <td>Secret in Their Eyes</td>\n",
       "      <td>2015</td>\n",
       "      <td>$hutter</td>\n",
       "      <td>actor</td>\n",
       "      <td>2002 Dodger Fan</td>\n",
       "      <td>NA</td>\n",
       "    </tr>\n",
       "    <tr>\n",
       "      <th>4</th>\n",
       "      <td>Steve Jobs</td>\n",
       "      <td>2015</td>\n",
       "      <td>$hutter</td>\n",
       "      <td>actor</td>\n",
       "      <td>1988 Opera House Patron</td>\n",
       "      <td>NA</td>\n",
       "    </tr>\n",
       "    <tr>\n",
       "      <th>5</th>\n",
       "      <td>Straight Outta Compton</td>\n",
       "      <td>2015</td>\n",
       "      <td>$hutter</td>\n",
       "      <td>actor</td>\n",
       "      <td>Club Patron</td>\n",
       "      <td>NA</td>\n",
       "    </tr>\n",
       "    <tr>\n",
       "      <th>6</th>\n",
       "      <td>Straight Outta Compton</td>\n",
       "      <td>2015</td>\n",
       "      <td>$hutter</td>\n",
       "      <td>actor</td>\n",
       "      <td>Dopeman</td>\n",
       "      <td>NA</td>\n",
       "    </tr>\n",
       "    <tr>\n",
       "      <th>7</th>\n",
       "      <td>For Thy Love 2</td>\n",
       "      <td>2009</td>\n",
       "      <td>Bee Moe $lim</td>\n",
       "      <td>actor</td>\n",
       "      <td>Thug 1</td>\n",
       "      <td>NA</td>\n",
       "    </tr>\n",
       "  </tbody>\n",
       "</table>\n",
       "</div>"
      ],
      "text/plain": [
       "                    title  year          name   type                character  \\\n",
       "3    Secret in Their Eyes  2015       $hutter  actor          2002 Dodger Fan   \n",
       "4              Steve Jobs  2015       $hutter  actor  1988 Opera House Patron   \n",
       "5  Straight Outta Compton  2015       $hutter  actor              Club Patron   \n",
       "6  Straight Outta Compton  2015       $hutter  actor                  Dopeman   \n",
       "7          For Thy Love 2  2009  Bee Moe $lim  actor                   Thug 1   \n",
       "\n",
       "    n  \n",
       "3  NA  \n",
       "4  NA  \n",
       "5  NA  \n",
       "6  NA  \n",
       "7  NA  "
      ]
     },
     "execution_count": 26,
     "metadata": {},
     "output_type": "execute_result"
    }
   ],
   "source": [
    "# Show the rows that have null values, this could be useful for picking out the rows that contain no values\n",
    "c = cast[cast['n'].isnull()]\n",
    "print(c.head())\n",
    "\n",
    "# Lets fill those null values with something else\n",
    "c_fill = c.fillna('NA')\n",
    "c_fill.head()"
   ]
  },
  {
   "cell_type": "markdown",
   "metadata": {},
   "source": [
    "### 2.2.5 String Operations\n",
    "\n",
    "Much of our data is likely to be string values, we want some way of performing operations on these values, we will cover some very basic ones here, these are accessed through the `.str.` option. You can read more [here](https://pandas.pydata.org/pandas-docs/stable/text.html) about working with text in Pandas, and this is a jump to a [method summary](https://pandas.pydata.org/pandas-docs/stable/text.html#method-summary).\n",
    "\n",
    "Methods that I will explore are the `contains`, `startswith` and `endswith` methods, which are pretty self explanatory.\n"
   ]
  },
  {
   "cell_type": "code",
   "execution_count": 33,
   "metadata": {},
   "outputs": [
    {
     "name": "stdout",
     "output_type": "stream",
     "text": [
      "There are 1280 movies that contain her\n",
      "There are 8806 movies that begin with The\n",
      "There are 3083 movies that end with er\n"
     ]
    }
   ],
   "source": [
    "# Using the contains string method\n",
    "c_contains = cast[cast['title'].str.contains('her')]\n",
    "print(\"There are\",len(c_contains),\"movies that contain her\")\n",
    "\n",
    "# Using the beginswith method\n",
    "c_begins = cast[cast['title'].str.startswith(\"The\")]\n",
    "print(\"There are\",len(c_begins),\"movies that begin with The\")\n",
    "\n",
    "# Using the endswith method\n",
    "c_ends = cast[cast['title'].str.endswith(\"er\")]\n",
    "print(\"There are\",len(c_ends),\"movies that end with er\")"
   ]
  },
  {
   "cell_type": "markdown",
   "metadata": {},
   "source": [
    "### 2.2.6 Count Values\n",
    "\n",
    "### 2.2.7 "
   ]
  },
  {
   "cell_type": "markdown",
   "metadata": {},
   "source": [
    "## 2.3 Groupby"
   ]
  }
 ],
 "metadata": {
  "kernelspec": {
   "display_name": "Python 3",
   "language": "python",
   "name": "python3"
  },
  "language_info": {
   "codemirror_mode": {
    "name": "ipython",
    "version": 3
   },
   "file_extension": ".py",
   "mimetype": "text/x-python",
   "name": "python",
   "nbconvert_exporter": "python",
   "pygments_lexer": "ipython3",
   "version": "3.7.1"
  }
 },
 "nbformat": 4,
 "nbformat_minor": 2
}
