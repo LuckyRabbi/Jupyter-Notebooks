{
 "cells": [
  {
   "cell_type": "markdown",
   "metadata": {},
   "source": [
    "# **bqplot**\n",
    "\n",
    "In this document I will outline my learning of the package [bqplot], it's own introduction states that it is based on Hadley Wickham's [Grammar of Graphics](https://www.tandfonline.com/doi/abs/10.1198/jcgs.2009.07098), the paper seems to be behind a paywall but this is a neat summary from [Towards Data Science](https://towardsdatascience.com/a-comprehensive-guide-to-the-grammar-of-graphics-for-effective-visualization-of-multi-dimensional-1f92b4ed4149) and another from [] although I will be working with Python for this document it should also be noted that this work is integrated into the [R](https://ramnathv.github.io/pycon2014-r/visualize/ggplot2.html) programming language; indeed, bqplot is a library which formalises these notions in a Python plotting package.\n",
    "\n",
    "The media company [Bloomberg's](https://www.bloomberg.com/professional/blog/bqplot-bringing-interactivity-data/) quantitative research team developed the library after realising that a major shortfall of the D3.js library upon which it is built is that it required a knowledge of JavaScript (which I do not have).\n",
    "\n",
    "You can follow the link to find the [documentation](https://bqplot.readthedocs.io/en/latest/) of bqplot, which is where I will be learning the details of the library."
   ]
  },
  {
   "cell_type": "code",
   "execution_count": 11,
   "metadata": {},
   "outputs": [],
   "source": [
    "# there is a lot to dissect here, not sure what a lot of these do!\n",
    "from __future__ import print_function\n",
    "from bqplot import *\n",
    "import numpy as np\n",
    "import pandas as pd\n",
    "from ipywidgets import Layout"
   ]
  },
  {
   "cell_type": "code",
   "execution_count": 5,
   "metadata": {},
   "outputs": [
    {
     "data": {
      "application/vnd.jupyter.widget-view+json": {
       "model_id": "5612d2f55a044d73a4e83531a8f9fb9f",
       "version_major": 2,
       "version_minor": 0
      },
      "text/plain": [
       "VBox(children=(Figure(axes=[Axis(scale=LinearScale(), side='bottom'), Axis(orientation='vertical', scale=Linea…"
      ]
     },
     "metadata": {},
     "output_type": "display_data"
    }
   ],
   "source": [
    "plt.figure(1, title='Line Chart')\n",
    "np.random.seed(0)\n",
    "n = 200\n",
    "x = np.linspace(0.0, 10.0, n)\n",
    "y = np.cumsum(np.random.randn(n))\n",
    "plt.plot(x, y)\n",
    "plt.show()"
   ]
  },
  {
   "cell_type": "markdown",
   "metadata": {},
   "source": [
    "## **The basics of bqplot**\n",
    "\n",
    "Each plot begins with a [Figure](https://bqplot.readthedocs.io/en/latest/_generate/bqplot.figure.Figure.html), this contains a variety of objects, very similar to how matplotlib is an OO plotting library. Contained within the Figure are a number of Axes, which represent scales, these scales then further contain marks which are used to represent data in a variety of ways.\n",
    "\n",
    "The point of difference for bqplot and the reason that I am choosing to learn it is that also built-in to the figure is an **interaction object**, which allows for every aspect of the graph to be interactive. This is extremely useful for rapid prototyping and is something that I see as fundamental to good data visualisation, after all how can one expect to understand a dataset if they aren't able to play around with it?\n",
    "\n",
    "### **Interactions**\n",
    "\n",
    "The following code is adapted from [bqplot examples](https://github.com/bloomberg/bqplot/blob/master/examples/Interactions/Mark%20Interactions.ipynb) on github, I will be playing around with these to figure out how the interactions work. My goal is to render the bar chart that I have made for NZ net migration in bqplot with interactive bars taht display the date and the value at that time. "
   ]
  },
  {
   "cell_type": "markdown",
   "metadata": {},
   "source": [
    "## Histogram"
   ]
  },
  {
   "cell_type": "code",
   "execution_count": 23,
   "metadata": {},
   "outputs": [
    {
     "data": {
      "application/vnd.jupyter.widget-view+json": {
       "model_id": "ed3046b1f0da4170ae5b73347f00c120",
       "version_major": 2,
       "version_minor": 0
      },
      "text/plain": [
       "Figure(axes=[Axis(scale=LinearScale(), tick_format='0.2f'), Axis(orientation='vertical', scale=LinearScale(), …"
      ]
     },
     "metadata": {},
     "output_type": "display_data"
    }
   ],
   "source": [
    "from ipywidgets import *\n",
    "\n",
    "# Adding tooltip for Histogram\n",
    "x_sc = LinearScale()\n",
    "y_sc = LinearScale()\n",
    "\n",
    "sample_data = np.random.randn(100)\n",
    "\n",
    "def_tt = Tooltip(formats=['', '.2f'], fields=['count', 'midpoint'])\n",
    "hist = Hist(sample=sample_data, scales= {'sample': x_sc, 'count': y_sc},\n",
    "                       tooltip=def_tt, display_legend=True, labels=['Test Hist'], select_bars=True)\n",
    "ax_x = Axis(scale=x_sc, tick_format='0.2f')\n",
    "ax_y = Axis(scale=y_sc, orientation='vertical', tick_format='0.2f')\n",
    "\n",
    "Figure(marks=[hist], axes=[ax_x, ax_y])\n"
   ]
  },
  {
   "cell_type": "code",
   "execution_count": 13,
   "metadata": {},
   "outputs": [],
   "source": [
    "# Changing tooltip to be displayed on click\n",
    "hist.interactions = {'click': 'tooltip'}"
   ]
  },
  {
   "cell_type": "code",
   "execution_count": 8,
   "metadata": {},
   "outputs": [],
   "source": []
  },
  {
   "cell_type": "code",
   "execution_count": null,
   "metadata": {},
   "outputs": [],
   "source": []
  }
 ],
 "metadata": {
  "kernelspec": {
   "display_name": "Python 3",
   "language": "python",
   "name": "python3"
  },
  "language_info": {
   "codemirror_mode": {
    "name": "ipython",
    "version": 3
   },
   "file_extension": ".py",
   "mimetype": "text/x-python",
   "name": "python",
   "nbconvert_exporter": "python",
   "pygments_lexer": "ipython3",
   "version": "3.7.1"
  }
 },
 "nbformat": 4,
 "nbformat_minor": 2
}
