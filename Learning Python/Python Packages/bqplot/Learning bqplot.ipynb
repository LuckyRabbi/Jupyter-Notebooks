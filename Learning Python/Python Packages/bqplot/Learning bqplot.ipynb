{
 "cells": [
  {
   "cell_type": "markdown",
   "metadata": {},
   "source": [
    "# **bqplot**\n",
    "\n",
    "In this document I will outline my learning of the package [bqplot], it's own introduction states that it is based on Hadley Wickham's [Grammar of Graphics](https://www.tandfonline.com/doi/abs/10.1198/jcgs.2009.07098), the paper seems to be behind a paywall but this is a neat summary from [Towards Data Science](https://towardsdatascience.com/a-comprehensive-guide-to-the-grammar-of-graphics-for-effective-visualization-of-multi-dimensional-1f92b4ed4149) and another from [] although I will be working with Python for this document it should also be noted that this work is integrated into the [R](https://ramnathv.github.io/pycon2014-r/visualize/ggplot2.html) programming language; indeed, bqplot is a library which formalises these notions in a Python plotting package.\n",
    "\n",
    "The media company [Bloomberg's](https://www.bloomberg.com/professional/blog/bqplot-bringing-interactivity-data/) quantitative research team developed the library after realising that a major shortfall of the D3.js library upon which it is built is that it required a knowledge of JavaScript (which I do not have).\n",
    "\n",
    "You can follow the link to find the [documentation](https://bqplot.readthedocs.io/en/latest/) of bqplot, which is where I will be learning the details of the library."
   ]
  },
  {
   "cell_type": "markdown",
   "metadata": {},
   "source": [
    "## **The basics of bqplot**\n",
    "\n",
    "Each plot begins with a [Figure](https://bqplot.readthedocs.io/en/latest/_generate/bqplot.figure.Figure.html), this contains a variety of objects, very similar to how matplotlib is an OO plotting library. Contained within the Figure are a number of Axes, which represent scales, these scales then further contain marks which are used to represent data in a variety of ways."
   ]
  },
  {
   "cell_type": "code",
   "execution_count": 1,
   "metadata": {},
   "outputs": [],
   "source": [
    "import numpy as np\n",
    "from bqplot import pyplot as plt"
   ]
  },
  {
   "cell_type": "markdown",
   "metadata": {},
   "source": [
    "### **Interactions**\n",
    "\n",
    "The point of difference for bqplot and the reason that I am choosing to learn it is that also built-in to the figure is an **interaction object**, which allows for every aspect of the graph to be interactive. This is extremely useful for rapid prototyping and is something that I see as fundamental to good data visualisation, after all how can one expect to understand a dataset if they aren't able to play around with it?\n",
    "\n",
    "The following code is adapted from [bqplot examples](https://github.com/bloomberg/bqplot/blob/master/examples) on github, I will be playing around with these to figure out how the interactions work. My goal is to render the bar chart that I have made for NZ net migration in bqplot with interactive bars taht display the date and the value at that time. "
   ]
  },
  {
   "cell_type": "code",
   "execution_count": null,
   "metadata": {},
   "outputs": [],
   "source": []
  }
 ],
 "metadata": {
  "kernelspec": {
   "display_name": "Python 3",
   "language": "python",
   "name": "python3"
  },
  "language_info": {
   "codemirror_mode": {
    "name": "ipython",
    "version": 3
   },
   "file_extension": ".py",
   "mimetype": "text/x-python",
   "name": "python",
   "nbconvert_exporter": "python",
   "pygments_lexer": "ipython3",
   "version": "3.7.1"
  }
 },
 "nbformat": 4,
 "nbformat_minor": 2
}
