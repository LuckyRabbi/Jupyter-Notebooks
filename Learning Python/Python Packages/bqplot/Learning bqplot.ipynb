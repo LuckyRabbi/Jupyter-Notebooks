{
 "cells": [
  {
   "cell_type": "markdown",
   "metadata": {},
   "source": [
    "# bqplot\n",
    "\n",
    "In this document I will outline my learning of the package [bqplot], it's own introduction states that it is based on Hadley Wickham's [Grammar of Graphics](https://www.tandfonline.com/doi/abs/10.1198/jcgs.2009.07098), the paper seems to be behind a paywall but this is a neat summary from [Towards Data Science](https://towardsdatascience.com/a-comprehensive-guide-to-the-grammar-of-graphics-for-effective-visualization-of-multi-dimensional-1f92b4ed4149) and another from [] although I will be working with Python for this document it should also be noted that this work is integrated into the [R](https://ramnathv.github.io/pycon2014-r/visualize/ggplot2.html) programming language; indeed, bqplot is a library which formalises these notions in a Python plotting package.\n",
    "\n",
    "The media company [Bloomberg's](https://www.bloomberg.com/professional/blog/bqplot-bringing-interactivity-data/) quantitative research team developed the library after realising that a major shortfall of the D3.js library upon which it is built is that it required a knowledge of JavaScript (which I do not have)."
   ]
  },
  {
   "cell_type": "code",
   "execution_count": null,
   "metadata": {},
   "outputs": [],
   "source": []
  }
 ],
 "metadata": {
  "kernelspec": {
   "display_name": "Python 3",
   "language": "python",
   "name": "python3"
  },
  "language_info": {
   "codemirror_mode": {
    "name": "ipython",
    "version": 3
   },
   "file_extension": ".py",
   "mimetype": "text/x-python",
   "name": "python",
   "nbconvert_exporter": "python",
   "pygments_lexer": "ipython3",
   "version": "3.7.1"
  }
 },
 "nbformat": 4,
 "nbformat_minor": 2
}
