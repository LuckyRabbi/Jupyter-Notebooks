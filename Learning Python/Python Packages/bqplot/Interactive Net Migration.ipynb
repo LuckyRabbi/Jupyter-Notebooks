{
 "cells": [
  {
   "cell_type": "markdown",
   "metadata": {},
   "source": [
    "# Interactive Net Migration\n",
    "\n",
    "The first thing I will do is get the data"
   ]
  },
  {
   "cell_type": "code",
   "execution_count": 1,
   "metadata": {},
   "outputs": [],
   "source": [
    "from __future__ import print_function\n",
    "from bqplot import *\n",
    "import numpy as np\n",
    "import pandas as pd\n",
    "from ipywidgets import Layout"
   ]
  },
  {
   "cell_type": "code",
   "execution_count": 2,
   "metadata": {},
   "outputs": [],
   "source": [
    "# import the csv as a DataFrame\n",
    "mig = pd.read_csv(\"itm-oct18-plt-key-series.csv\")"
   ]
  },
  {
   "cell_type": "code",
   "execution_count": 16,
   "metadata": {},
   "outputs": [
    {
     "name": "stdout",
     "output_type": "stream",
     "text": [
      "[-1877 -1114 -4026 -2332 -2528 -2069 -1590 -1223 -1050  -952  -304    72\n",
      "   -29   557 -1942 -1701 -2215 -2085 -2412 -2175 -1837 -2027 -1159 -1503\n",
      " -1325  -509 -3680 -2958 -4012 -3637 -3820 -3437 -3322 -2891 -2512 -2188\n",
      " -1896 -2101 -4828 -4125 -4366 -4005 -3742 -3531 -3497 -3049 -2217 -1999\n",
      " -1624 -1861 -3906 -2916 -3100 -2805 -2564 -2203 -1688 -1492  -499  -423\n",
      "  -381   165 -1781 -1015 -1343 -1073 -1468 -1060  -634  -571  -108   237\n",
      "   268   848  -971  -774 -1103  -969  -944  -923  -587  -459    44   381\n",
      "   459  1121  -474  -439  -779  -960  -887  -559  -517    22   524   412\n",
      "   637  1202  -385  -397  -433 -1025  -813  -511  -345  -330   351   632\n",
      "   745  1468  -335  -217  -701 -1053 -1090  -895  -809  -526    14   255]\n"
     ]
    }
   ],
   "source": [
    "# I'll need to clean up the dataset first.\n",
    "# Exclude all entries that aren't net migration, aren't All Countries and sort by the time value\n",
    "mig_net = mig[(mig['Direction'] == \"Net migration\") & (mig['Country'] != \"Australia\")].sort_values(\"Period\")\n",
    "\n",
    "# Now we only have the net migration statistics and they are sorted by year\n",
    "mig_nonNZ = mig_net[mig_net['Citizenship'] == \"non-NZ\"]\n",
    "mig_NZ = mig_net[mig_net['Citizenship'] == \"NZ\"]\n",
    "\n",
    "# Get the dates of the values\n",
    "dates = pd.to_datetime(mig_nonNZ['Period'].values, format=\"%Y%m\")\n",
    "\n",
    "# Get the values that correspond to the dates\n",
    "non_nz = mig_nonNZ['Count'].values\n",
    "nz = mig_NZ['Count'].values"
   ]
  },
  {
   "cell_type": "markdown",
   "metadata": {},
   "source": [
    "Now that that's done, I will need to create the graph using bqplot"
   ]
  },
  {
   "cell_type": "code",
   "execution_count": 4,
   "metadata": {},
   "outputs": [],
   "source": [
    "from ipywidgets import *"
   ]
  },
  {
   "cell_type": "code",
   "execution_count": 17,
   "metadata": {},
   "outputs": [
    {
     "name": "stdout",
     "output_type": "stream",
     "text": [
      "Hist(colors=['#1f77b4', '#ff7f0e', '#2ca02c', '#d62728', '#9467bd', '#8c564b', '#e377c2', '#7f7f7f', '#bcbd22', '#17becf'], interactions={'hover': 'tooltip'}, labels=['Test Hist'], scales={'sample': DateScale(max=Timestamp('2018-10-01 00:00:00'), min=Timestamp('2008-11-01 00:00:00')), 'count': LinearScale()}, scales_metadata={'sample': {'orientation': 'horizontal', 'dimension': 'x'}, 'count': {'orientation': 'vertical', 'dimension': 'y'}}, tooltip=Tooltip(fields=['count'], formats=['', '.2f']), tooltip_style={'opacity': 0.9})\n"
     ]
    },
    {
     "data": {
      "application/vnd.jupyter.widget-view+json": {
       "model_id": "8d58495fa46044dd8d197beef71c11e7",
       "version_major": 2,
       "version_minor": 0
      },
      "text/plain": [
       "Figure(axes=[Axis(scale=DateScale(max=Timestamp('2018-10-01 00:00:00'), min=Timestamp('2008-11-01 00:00:00')),…"
      ]
     },
     "metadata": {},
     "output_type": "display_data"
    }
   ],
   "source": [
    "# Adding tooltip for Histogram\n",
    "x_sc = DateScale(min=dates[0], max=dates[len(dates)-1])\n",
    "y_sc = LinearScale()\n",
    "\n",
    "def_tt = Tooltip(formats=['', '.2f'], fields=['count'])\n",
    "hist = Hist(x=dates,y=nz, scales= {'sample': x_sc, 'count': y_sc},\n",
    "                       tooltip=def_tt, labels=['Test Hist'], select_bars=True,\n",
    "                       tick_values = dates)\n",
    "ax_x = Axis(scale=x_sc, tick_format='%Y')\n",
    "ax_y = Axis(scale=y_sc, orientation='vertical', tick_format='0.2f')\n",
    "\n",
    "Figure(marks=[hist], axes=[ax_x, ax_y])"
   ]
  },
  {
   "cell_type": "code",
   "execution_count": null,
   "metadata": {},
   "outputs": [],
   "source": []
  }
 ],
 "metadata": {
  "kernelspec": {
   "display_name": "Python 3",
   "language": "python",
   "name": "python3"
  },
  "language_info": {
   "codemirror_mode": {
    "name": "ipython",
    "version": 3
   },
   "file_extension": ".py",
   "mimetype": "text/x-python",
   "name": "python",
   "nbconvert_exporter": "python",
   "pygments_lexer": "ipython3",
   "version": "3.7.1"
  }
 },
 "nbformat": 4,
 "nbformat_minor": 2
}
