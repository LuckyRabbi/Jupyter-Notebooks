{
 "cells": [
  {
   "cell_type": "markdown",
   "metadata": {},
   "source": [
    "# Python Refresher\n",
    "\n",
    "Here I will outline a quick refresher of Python, the basic data types are Integers, Floats, Boolean and Strings and they have many useful methods that allow one to manipulate these data types. I will mainly be drawing from [this resource](http://cs231n.github.io/python-numpy-tutorial/). \n",
    "\n",
    "Python is an *interpreted* language meaning that it is interpreted one line at a time when it is run, since I am using Jupyter notebooks I don't really have to worry about this.\n",
    "\n",
    "At any point you can type `function?` to return the docstring of the function."
   ]
  },
  {
   "cell_type": "code",
   "execution_count": 9,
   "metadata": {},
   "outputs": [
    {
     "name": "stdout",
     "output_type": "stream",
     "text": [
      "<class 'int'>\n",
      "3\n",
      "4\n",
      "<class 'float'>\n",
      "3.0\n",
      "7.0\n",
      "<class 'float'>\n"
     ]
    }
   ],
   "source": [
    "a = 3 # this is an integer\n",
    "print(type(a))\n",
    "print(a)\n",
    "a += 1 # no unary operation such as ++ or --, but does have +=, -= and *=\n",
    "print(a)\n",
    "\n",
    "b = 3. # this is a float\n",
    "print(type(b))\n",
    "print(b)\n",
    "\n",
    "print(a+b) # returns a float\n",
    "print(type(a+b))\n",
    "\n",
    "# Reutrns the docstring of a function.\n",
    "print?"
   ]
  },
  {
   "cell_type": "markdown",
   "metadata": {},
   "source": [
    "## Data Types \n",
    "\n",
    "There are a few basic types of data that are native to Python, these are:\n",
    "- Integer\n",
    "- Complex\n",
    "- Float\n",
    "- Boolean\n",
    "\n",
    "Just for fun, I will use the Wallis formula $$ \\pi = 2\\prod_{i=1}^{\\infty} \\frac{4i^2}{4i^2 - 1} $$ to calculate digits of pi. I will start buy instantiating a list. Of course there are better ways to get pi, it is stored as a field.\n",
    "\n"
   ]
  },
  {
   "cell_type": "code",
   "execution_count": 18,
   "metadata": {},
   "outputs": [
    {
     "name": "stdout",
     "output_type": "stream",
     "text": [
      "9.98 ms ± 233 µs per loop (mean ± std. dev. of 7 runs, 100 loops each)\n",
      "1.5707570593409783\n"
     ]
    }
   ],
   "source": [
    "# Make variables\n",
    "# Set limit of how accurate pi should be\n",
    "\n",
    "num = 10000\n",
    "pi = 1\n",
    "\n",
    "for i in range(num):\n",
    "    i+=1\n",
    "    pi = pi*((4*i**2)/(4*i**2 - 1))\n",
    "    \n",
    "# Try using it using list comprehensions\n",
    "%timeit pi = [((4*i**2)/(4*i**2 - 1)) for i in range(num)]\n",
    "print(pi)"
   ]
  },
  {
   "cell_type": "markdown",
   "metadata": {},
   "source": [
    "# NumPy and SciPy\n",
    "\n",
    "SciPy is a scientific library for python, NumPy is the fundamental building block of all of SciPy's computations, it provides a multi-dimensional array, on which operations are done. A good *quickstart guide* can be found [here](https://docs.scipy.org/doc/numpy/user/quickstart.html) and explains the fundamental object 'ndarray' or n-dimensional arrays. The *full documentation* can be found [here](https://docs.scipy.org/doc/).\n",
    "\n",
    "#### The ndarray object\n",
    "\n",
    "In NumPy the n-dimensional array has *axes* which is essentially the number of dimensions, the following code shows an ndarray that has been explicitly instantiated, it has 3 axes, and therefore a size of 6."
   ]
  },
  {
   "cell_type": "code",
   "execution_count": 2,
   "metadata": {},
   "outputs": [
    {
     "name": "stdout",
     "output_type": "stream",
     "text": [
      "6\n",
      "3\n"
     ]
    }
   ],
   "source": [
    "import numpy as np\n",
    "\n",
    "# explicitly defining an array, with dimension 1 and a length of 3\n",
    "a = np.ndarray([1,2,3])\n",
    "print(a.size)\n",
    "print(a.ndim)"
   ]
  },
  {
   "cell_type": "markdown",
   "metadata": {},
   "source": [
    "\n",
    "#### Array Creation\n",
    "\n",
    "NumPy also offers a variety of ways to create an array (essentially an alias of the ndarray), with a variety of ways to specify the initial size of the array with placeholder variables. These are especially useful for linear algebra applications, which will be the topic of the next notebook. \n"
   ]
  },
  {
   "cell_type": "code",
   "execution_count": 25,
   "metadata": {},
   "outputs": [
    {
     "name": "stdout",
     "output_type": "stream",
     "text": [
      "[[0. 0.]\n",
      " [0. 0.]]\n",
      "[[1. 1.]]\n",
      "[[7 7]\n",
      " [7 7]]\n",
      "[[1. 0.]\n",
      " [0. 1.]]\n",
      "[[0.46175494 0.8826019 ]\n",
      " [0.28934112 0.02091026]]\n"
     ]
    }
   ],
   "source": [
    "a = np.zeros((2,2))   # Create an array of all zeros\n",
    "print(a)              # Prints \"[[ 0.  0.]\n",
    "                      #          [ 0.  0.]]\"\n",
    "\n",
    "b = np.ones((1,2))    # Create an array of all ones\n",
    "print(b)              # Prints \"[[ 1.  1.]]\"\n",
    "\n",
    "c = np.full((2,2), 7)  # Create a constant array\n",
    "print(c)               # Prints \"[[ 7.  7.]\n",
    "                       #          [ 7.  7.]]\"\n",
    "\n",
    "d = np.eye(2)         # Create a 2x2 identity matrix\n",
    "print(d)              # Prints \"[[ 1.  0.]\n",
    "                      #          [ 0.  1.]]\"\n",
    "\n",
    "e = np.random.random((2,2))  # Create an array filled with random values\n",
    "print(e)                     # Might print \"[[ 0.91940167  0.08143941]\n",
    "                             #               [ 0.68744134  0.87236687]]\"\n",
    "    \n"
   ]
  },
  {
   "cell_type": "markdown",
   "metadata": {},
   "source": [
    "There are many ways to create an array which can be found in the [documentation](https://docs.scipy.org/doc/numpy/user/basics.creation.html#arrays-creation).\n",
    "\n",
    "#### Array Indexing\n",
    "\n",
    "Like in native python, slicing is a great way to reach certain portions of an array, allowing for one to take parts of an array and do operatrions with them. If the slice (partition) is modified, it modifies the original array. For example, the following code creates an array and then references slices of it. \n",
    "\n",
    "Because arrays in NumPy are multidimensional, you must specify a slice for each dimension of the axis.\n"
   ]
  },
  {
   "cell_type": "code",
   "execution_count": 27,
   "metadata": {},
   "outputs": [
    {
     "name": "stdout",
     "output_type": "stream",
     "text": [
      "[[1 2 3]\n",
      " [4 5 6]\n",
      " [7 8 9]] \n",
      "\n",
      "Just the 0th element: [1 2 3] \n",
      "\n",
      "The elements along first axis [1 2 3] \n",
      "\n",
      "The elements along second axis [1 4 7] \n",
      "\n",
      "2nd and 3rd element of second and third row:\n",
      " [[5 6]\n",
      " [8 9]] \n",
      "\n",
      "[[1 2 3]\n",
      " [4 5 6]\n",
      " [0 0 0]]\n"
     ]
    }
   ],
   "source": [
    "x = np.array([[1,2,3],[4,5,6],[7,8,9]])\n",
    "print(x,\"\\n\")\n",
    "\n",
    "ele0 = x[0]\n",
    "axis1 = x[0,:]\n",
    "axis2 = x[:,0]\n",
    "axis1_2 = x[1:3,1:3]\n",
    "\n",
    "\n",
    "print(\"Just the 0th element:\", ele0,\"\\n\") #prints just the 0th element\n",
    "print(\"The elements along first axis\", axis1,\"\\n\")\n",
    "print(\"The elements along second axis\", axis2,\"\\n\") #prints the 0th element of the first axis\n",
    "print(\"2nd and 3rd element of second and third row:\\n\", axis1_2,\"\\n\") \n",
    "# Modifying a slice will modify the array\n",
    "x[2,:] = [0,0,0]\n",
    "print(x)"
   ]
  },
  {
   "cell_type": "markdown",
   "metadata": {},
   "source": [
    "A really useful application of slicing is **boolean array indexing**, this allows you to select elements from an array that satisfy a condition. This could be very useful for cleaning data. "
   ]
  },
  {
   "cell_type": "code",
   "execution_count": 30,
   "metadata": {},
   "outputs": [
    {
     "name": "stdout",
     "output_type": "stream",
     "text": [
      "[[False False]\n",
      " [False  True]\n",
      " [ True  True]\n",
      " [ True  True]]\n",
      "[4 5 6 7 8]\n"
     ]
    }
   ],
   "source": [
    "a = np.array([[1,2],[3,4],[5,6],[7,8]])\n",
    "\n",
    "exp = (a > 3)\n",
    "\n",
    "print(exp) # Prints whether values in a are greater than 3\n",
    "print(a[exp]) # Prints all values in a greater than 3"
   ]
  },
  {
   "cell_type": "markdown",
   "metadata": {},
   "source": [
    "Again, a more complete description of array indexing can be found in the [documentation](https://docs.scipy.org/doc/numpy/reference/arrays.indexing.html) of array indexing.\n",
    "\n",
    "#### Data Types\n",
    "\n",
    "Like in native python there are different data types, all of which can be found in the [documentation](https://docs.scipy.org/doc/numpy/reference/arrays.dtypes.html) of data types. The main ones that I am interested in are integer, float and complex numbers."
   ]
  },
  {
   "cell_type": "code",
   "execution_count": 37,
   "metadata": {},
   "outputs": [
    {
     "name": "stdout",
     "output_type": "stream",
     "text": [
      "Integer array: [1 2 3 4] int32\n",
      "Float array: [1. 2. 3. 4.] float64\n",
      "Complex array: [1.+0.j 2.+0.j 3.+0.j 4.+0.j] complex128\n"
     ]
    }
   ],
   "source": [
    "int_arr = np.array([1,2,3,4]) # Integer array\n",
    "float_arr = np.array([1.,2.,3.,4.]) # Float array\n",
    "cplx_arr = np.array([1+0j,2+0j,3+0j,4+0j]) # Complex Array\n",
    "\n",
    "print(\"Integer array:\", int_arr, int_arr.dtype)\n",
    "print(\"Float array:\", float_arr, float_arr.dtype)\n",
    "print(\"Complex array:\", cplx_arr, cplx_arr.dtype)"
   ]
  },
  {
   "cell_type": "markdown",
   "metadata": {},
   "source": [
    "You can also specifiy a particular dataype by specifying it in the parameters of the array creation method"
   ]
  },
  {
   "cell_type": "code",
   "execution_count": 41,
   "metadata": {},
   "outputs": [
    {
     "name": "stdout",
     "output_type": "stream",
     "text": [
      "[1. 2. 3. 4.] float64\n"
     ]
    }
   ],
   "source": [
    "arr = np.array([1,2,3,4], dtype='float64') # Forces the array to be float\n",
    "print(arr, arr.dtype) "
   ]
  },
  {
   "cell_type": "markdown",
   "metadata": {},
   "source": [
    "#### Array Operations\n",
    "\n",
    "There are many inbuilt functions for performing arithmetic and operations on ndarrays, a complete list can be found in the [documentation](https://docs.scipy.org/doc/numpy/reference/routines.math.html) on mathematical routines. Some very simple operations are matrix addition, subtraction e.t.c. these can all be used with the standard Python arithmetic operators, +,-,* and / however it must be noted that the latter two are not matrix multiplication and division, rather they are elementwise operations.\n",
    "\n",
    "The routines for manipulating arrays, such as transpositions and rotations can be found in the [documentation](https://docs.scipy.org/doc/numpy/reference/routines.array-manipulation.html)."
   ]
  },
  {
   "cell_type": "code",
   "execution_count": 7,
   "metadata": {},
   "outputs": [
    {
     "name": "stdout",
     "output_type": "stream",
     "text": [
      "[[2 2 2]\n",
      " [4 4 4]\n",
      " [6 6 6]]\n",
      "[[2 2 2]\n",
      " [4 4 4]\n",
      " [6 6 6]]\n",
      "[[0 0 0]\n",
      " [0 0 0]\n",
      " [0 0 0]]\n",
      "[[0 0 0]\n",
      " [0 0 0]\n",
      " [0 0 0]]\n",
      "[[1 1 1]\n",
      " [4 4 4]\n",
      " [9 9 9]]\n",
      "[[1 1 1]\n",
      " [4 4 4]\n",
      " [9 9 9]]\n",
      "[[1. 1. 1.]\n",
      " [1. 1. 1.]\n",
      " [1. 1. 1.]]\n",
      "[[1. 1. 1.]\n",
      " [1. 1. 1.]\n",
      " [1. 1. 1.]]\n"
     ]
    }
   ],
   "source": [
    "a = np.array([[1,1,1],[2,2,2],[3,3,3]])\n",
    "b = np.array(a.copy())\n",
    "\n",
    "print(a+b) # Adds each element to one another\n",
    "print(np.add(a,b))\n",
    "\n",
    "print(a-b) # subtracts each element from one another\n",
    "print(np.subtract(a,b))\n",
    "\n",
    "print(a*b) # multiplies each element by one another\n",
    "print(np.multiply(a,b))\n",
    "\n",
    "print(a/b) # divides each element by one another\n",
    "print(np.divide(a,b))"
   ]
  },
  {
   "cell_type": "markdown",
   "metadata": {},
   "source": [
    "To do the matrix multiplication operation we must use np.dot() to find the inner product. Another very useful function is the sum() function which adds up all the elements in an array. You can also specify the axis over which to do the sum."
   ]
  },
  {
   "cell_type": "code",
   "execution_count": 17,
   "metadata": {},
   "outputs": [
    {
     "name": "stdout",
     "output_type": "stream",
     "text": [
      "18\n",
      "[3 6 9]\n",
      "[6 6 6]\n",
      "9\n"
     ]
    }
   ],
   "source": [
    "to_sum = np.array([[1,2,3],[1,2,3],[1,2,3]])\n",
    "\n",
    "print(to_sum.sum())\n",
    "print(to_sum.sum(axis=0)) # Sums each column\n",
    "print(to_sum.sum(axis=1)) # Sums each row\n",
    "print(to_sum[0:3,2].sum()) # Takes the third element of each row and sums them."
   ]
  },
  {
   "cell_type": "markdown",
   "metadata": {},
   "source": [
    "#### Broadcasting\n",
    "\n",
    "Can't be bothered writing this yet, will do it soon."
   ]
  },
  {
   "cell_type": "code",
   "execution_count": null,
   "metadata": {},
   "outputs": [],
   "source": []
  }
 ],
 "metadata": {
  "kernelspec": {
   "display_name": "Python 3",
   "language": "python",
   "name": "python3"
  },
  "language_info": {
   "codemirror_mode": {
    "name": "ipython",
    "version": 3
   },
   "file_extension": ".py",
   "mimetype": "text/x-python",
   "name": "python",
   "nbconvert_exporter": "python",
   "pygments_lexer": "ipython3",
   "version": "3.7.1"
  }
 },
 "nbformat": 4,
 "nbformat_minor": 2
}
