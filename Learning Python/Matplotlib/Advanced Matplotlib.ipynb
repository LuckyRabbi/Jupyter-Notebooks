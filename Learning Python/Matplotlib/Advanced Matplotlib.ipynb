{
 "cells": [
  {
   "cell_type": "markdown",
   "metadata": {},
   "source": [
    "# Advanced Matplotlib\n",
    "\n",
    "Now that I am starting to get the hang of matplotlib I am seeking a deeper understanding of the library that will allow me to create complex plots that also have elements of interactivity. \n",
    "\n",
    "We will start by importing matplotlib"
   ]
  },
  {
   "cell_type": "code",
   "execution_count": 1,
   "metadata": {},
   "outputs": [],
   "source": [
    "import matplotlib.pyplot as plt"
   ]
  },
  {
   "cell_type": "markdown",
   "metadata": {},
   "source": [
    "## Figures Behind the Scenes\n",
    "\n",
    "An important part of matplotlib are the figures and axes, when we call `plt.subplots()` or the less used `plt.figure()` what we are really doing is creating figures. The difference between these two calls is that the former creates a figure that has axes whereas the latter only creates the figure, without any axes. When a figure is made, it hangs about in memory and can be referenced easily if you know what figures are hanging around in memory.\n",
    "\n",
    "It must be noted that most of the plotting functions available by the by using the pyplot interface are also available for the `matplotlib.axes.Axes` class, a full list of axes [plotting functions](https://matplotlib.org/api/axes_api.html?highlight=axes%20class#plotting) are available.\n",
    "\n",
    "By default, the current figure and axes are those which are created most recently, this is illustrated in the code below. Also shown is a handy way to get all of the figure objects themselves\n",
    "\n",
    "Calling the `plt.close('all')` method will get rid of all figures."
   ]
  },
  {
   "cell_type": "code",
   "execution_count": 16,
   "metadata": {},
   "outputs": [
    {
     "name": "stdout",
     "output_type": "stream",
     "text": [
      "fig1 is the current figure: True\n",
      "\n",
      "Creating new figure...\n",
      "\n",
      "fig1 is the current figure: False\n",
      "fig2 is the current figure: True\n",
      "\n",
      "The list of figures is: [1, 2]\n",
      "\n",
      "All figures closed\n",
      "\n",
      "The list of figures is: []\n"
     ]
    }
   ],
   "source": [
    "# Creating a figure with no axes\n",
    "fig1 = plt.figure()\n",
    "\n",
    "# Check that it is the current figure\n",
    "print(\"fig1 is the current figure:\", id(plt.gcf())==id(fig1))\n",
    "\n",
    "# Creating another figure, now with axes\n",
    "print(\"\\nCreating new figure...\\n\")\n",
    "fig2, ax = plt.subplots()\n",
    "\n",
    "# Check that it is the current figure\n",
    "print(\"fig1 is the current figure:\", id(plt.gcf())==id(fig1))\n",
    "print(\"fig2 is the current figure:\", id(plt.gcf())==id(fig2))\n",
    "\n",
    "# The figures have indexes assigned to them\n",
    "print(\"\\nThe list of figures is:\",plt.get_fignums())\n",
    "\n",
    "# Get the figures themselves as a list\n",
    "def get_all_figures():\n",
    "    return [plt.figure(i) for i in plt.get_fignums()]\n",
    "\n",
    "# Show all of the figures in memory\n",
    "get_all_figures()\n",
    "\n",
    "# Close the plots\n",
    "plt.close('all')\n",
    "\n",
    "# Now there are no more figures\n",
    "print(\"\\nAll figures closed\")\n",
    "get_all_figures()\n",
    "print(\"\\nThe list of figures is:\",plt.get_fignums())"
   ]
  },
  {
   "cell_type": "markdown",
   "metadata": {},
   "source": []
  }
 ],
 "metadata": {
  "kernelspec": {
   "display_name": "Python 3",
   "language": "python",
   "name": "python3"
  },
  "language_info": {
   "codemirror_mode": {
    "name": "ipython",
    "version": 3
   },
   "file_extension": ".py",
   "mimetype": "text/x-python",
   "name": "python",
   "nbconvert_exporter": "python",
   "pygments_lexer": "ipython3",
   "version": "3.7.1"
  }
 },
 "nbformat": 4,
 "nbformat_minor": 2
}
