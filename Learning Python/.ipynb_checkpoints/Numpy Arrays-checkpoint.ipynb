{
 "cells": [
  {
   "cell_type": "markdown",
   "metadata": {},
   "source": [
    "# Arrays\n",
    "\n",
    "Arrays are central to the numpy library, they are essentially the substrate on which operations are performed, I've already covered some basic ways that they can be created but I have more of a desire to learn how to iterate over them, modify them and understand their memory structure, among other things.\n",
    "\n",
    "First we will briefly discuss NumPy, a library made for scientific computing, it offers a variety of advantages to the built-in structures of Python.\n",
    "\n",
    "NumPy provides an [array object](http://www.scipy-lectures.org/intro/numpy/array_object.html) which is:\n",
    "- An extension to python for multi-dimensional arrays \n",
    "- Built for scientific computing\n",
    "- Close to the machine (efficient)\n",
    "- Known as *array oriented computing*\n",
    "\n",
    "Here is the [full documentation](https://docs.scipy.org/doc/) for NumPy and SciPy.\n",
    "\n",
    "## General Principles\n",
    "\n",
    "The **n-dimensional array** is **useful** because it provides a **memory-efficient container** that allows for fast computations, take for example a comparison of the same operation on a regular Python list and an n-dimensional array.\n",
    "\n",
    "### Getting Help and feedback\n",
    "\n",
    "The first port of call is the documentation which is seen above, however there are ways to get help without need for the documentation.\n",
    "\n",
    "A massive bonus of the IPython kernel is that it provides interactive help, at any point one can easily use the `?` operator before or after a function to read the docstring and explore the structure of an object. another helpful operator is the `*?` which will give interactice suggestions for the completion of a function call. One can also use the `.lookfor()` method which takes a string and searches the docs for something that matches it."
   ]
  },
  {
   "cell_type": "code",
   "execution_count": 21,
   "metadata": {},
   "outputs": [],
   "source": [
    "# Showing some of the useful features of the IPython kernel!\n",
    "# I have commented out all but the import for the time being.\n",
    "\n",
    "import numpy as np\n",
    "\n",
    "# THIS TAKES A WHILE TO RUN\n",
    "\n",
    "# An operation on a regular Python list timed by magic\n",
    "# a = range(1000)\n",
    "# %timeit [i**2 for i in a]\n",
    "\n",
    "# The same operation on a NumPy array timed by magic\n",
    "# b = np.arange(1000)\n",
    "# %timeit b**2\n",
    "\n",
    "# Probes the arange function of np.\n",
    "# np.arange?\n",
    "\n",
    "# Suggestions for completion\n",
    "# np.a*?\n",
    "\n",
    "# Look up a function\n",
    "np.lookfor(\"append array\")"
   ]
  },
  {
   "cell_type": "markdown",
   "metadata": {},
   "source": [
    "## Array Creation\n",
    "\n",
    "The simplest way to create an array to is simply use the `ndarray()` method, I have included in this outline links to basic [array creation](https://docs.scipy.org/doc/numpy/user/basics.creation.html#arrays-creation), and to more adavanced [array creation routines](https://docs.scipy.org/doc/numpy/reference/routines.array-creation.html) for reference. However for brevity I will cover only a couple of these.\n",
    "\n",
    "### Manual Creation\n",
    "\n",
    "It is easy to make arrays with numpy, we can manually construct an array by calling the `np.array()` function and passing in a regular Python list, this is an alias of the function `np.ndarray()`. We can create, 1-D, 2-D, 3-D and n-D arrays with ease. For example\n",
    "\n",
    "    x1 = np.array([1,2,3,4]) # Creates a 1-D array\n",
    "    x2 = np.array([[1,2],    # Creates a 2-D array\n",
    "                   [1,2]]) \n",
    "                   \n",
    "will create a one and two dimensional array respectively.\n",
    "\n",
    "### Intrinsic methods\n",
    "\n",
    "#### Zeros and ones\n",
    "\n",
    "The `zeros(shape)` function creates an $ n\\times m $ matrix that is filled entirely with zeros, the `ones(shape)` function serves a similar purpose. \n",
    "\n",
    "#### Linspace Method\n",
    "\n",
    "The `linspace` method is an inbuilt array creation routine that [generates evenly spaced values](https://docs.scipy.org/doc/numpy/reference/generated/numpy.linspace.html) over a specified interval, this is quite useful for plotting, when we want to plot something over a range of values that is interesting.\n",
    "\n",
    "#### A Range\n",
    "\n",
    "The `arange()` function will re\n",
    "\n",
    "#### Diagonals\n",
    "\n",
    "The `diag()` function will take a 1-D array and put those in the diagonal positions of a square matrix of the same size. \n",
    "\n",
    "#### Random Numbers\n",
    "\n",
    "The `np.random` class has a variety \n",
    "\n",
    "### Probing the array properties\n",
    "\n",
    "There are a variety of \n",
    "\n",
    "\n",
    "\n",
    "### Array Creation Exercises\n",
    "\n",
    "\n"
   ]
  },
  {
   "cell_type": "code",
   "execution_count": 25,
   "metadata": {},
   "outputs": [
    {
     "name": "stdout",
     "output_type": "stream",
     "text": [
      "Array a is a (6,) array. It is one dimensional, ndim = 1 and has a length of 6\n",
      "Array b is a (2, 3) array. It is two dimensional, ndim = 2 and has a length of 2\n",
      "\n",
      " [[1 0 0 0]\n",
      " [0 1 0 0]\n",
      " [0 0 1 0]\n",
      " [0 0 0 1]]\n"
     ]
    }
   ],
   "source": [
    "# Manual Creation\n",
    "a = np.array([0,1,2,3,4,5])\n",
    "print(\"Array a is a\", a.shape, \"array. It is one dimensional, ndim =\", a.ndim, \"and has a length of\", len(a))\n",
    "b = np.array([[0,1,2],[3,4,5]])\n",
    "print(\"Array b is a\", b.shape, \"array. It is two dimensional, ndim =\", b.ndim, \"and has a length of\", len(b))\n",
    "\n",
    "\n",
    "# Intrinsic Methods\n",
    "x1 = np.linspace(-10,10)\n",
    "bits = np.zeros((2,3))\n",
    "d = np.diag(np.array([1,1,1,1]))\n",
    "\n",
    "\n",
    "print(\"\\n\", d)\n",
    "\n",
    "np.random?"
   ]
  },
  {
   "cell_type": "code",
   "execution_count": null,
   "metadata": {},
   "outputs": [],
   "source": []
  }
 ],
 "metadata": {
  "kernelspec": {
   "display_name": "Python 3",
   "language": "python",
   "name": "python3"
  },
  "language_info": {
   "codemirror_mode": {
    "name": "ipython",
    "version": 3
   },
   "file_extension": ".py",
   "mimetype": "text/x-python",
   "name": "python",
   "nbconvert_exporter": "python",
   "pygments_lexer": "ipython3",
   "version": "3.6.5"
  }
 },
 "nbformat": 4,
 "nbformat_minor": 2
}
