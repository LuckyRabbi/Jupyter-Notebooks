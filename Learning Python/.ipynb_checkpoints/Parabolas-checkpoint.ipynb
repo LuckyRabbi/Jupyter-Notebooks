{
 "cells": [
  {
   "cell_type": "markdown",
   "metadata": {},
   "source": [
    "# Learning About Parabolas\n",
    "\n",
    "A parabola is a shape of a graph, it comes from a 2nd degree polynomial that has the general form: $$ y = ax^2 + bx + c, \\\\ a,b,c \\in  \\mathbb{R} $$ we will see how changing the values of these constants changes the way that the graph looks. Luckily, I am currently learning matplotlib and ipywidgets which will help with this. \n",
    "\n",
    "First we will draw a parabola over a certain range."
   ]
  },
  {
   "cell_type": "code",
   "execution_count": 19,
   "metadata": {},
   "outputs": [
    {
     "data": {
      "application/vnd.jupyter.widget-view+json": {
       "model_id": "ce8d0e6a494142e09aa4132e19e32914",
       "version_major": 2,
       "version_minor": 0
      },
      "text/plain": [
       "interactive(children=(FloatSlider(value=1.0, description='a', max=5.0, min=-5.0), FloatSlider(value=0.0, descr…"
      ]
     },
     "metadata": {},
     "output_type": "display_data"
    },
    {
     "data": {
      "text/plain": [
       "<function __main__.para(a=1, b=0, c=0)>"
      ]
     },
     "execution_count": 19,
     "metadata": {},
     "output_type": "execute_result"
    }
   ],
   "source": [
    "import numpy as np\n",
    "import matplotlib.pyplot as plt\n",
    "from ipywidgets import interact, interactive, fixed, interact_manual\n",
    "import ipywidgets as widgets\n",
    "\n",
    "# Range of numbers\n",
    "x = np.arange(-10, 10, 0.1)\n",
    "# Parabola function\n",
    "def para(a=1, b=0, c=0):\n",
    "    arg = [a,b,c] \n",
    "    f(x, arg)\n",
    "\n",
    "def f(x, arg):\n",
    "    plt.ylim(-10, 50)\n",
    "    plt.plot(x, arg[0]*x**2+arg[1]*x+arg[2])\n",
    "    \n",
    "interact(para, a=(-5.,5.,0.1), b=(-5.,5.,0.1), c=(-10,25,1))"
   ]
  },
  {
   "cell_type": "markdown",
   "metadata": {},
   "source": [
    "So, we can see that changing the values of the constants a,b and c changes the graph itself in a predicatable way; by interacting, what would you say changing the value of a does? What about b? and c? "
   ]
  }
 ],
 "metadata": {
  "kernelspec": {
   "display_name": "Python 3",
   "language": "python",
   "name": "python3"
  },
  "language_info": {
   "codemirror_mode": {
    "name": "ipython",
    "version": 3
   },
   "file_extension": ".py",
   "mimetype": "text/x-python",
   "name": "python",
   "nbconvert_exporter": "python",
   "pygments_lexer": "ipython3",
   "version": "3.6.5"
  }
 },
 "nbformat": 4,
 "nbformat_minor": 2
}
