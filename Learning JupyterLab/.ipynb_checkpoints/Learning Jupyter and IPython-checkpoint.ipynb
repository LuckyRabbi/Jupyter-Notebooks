{
 "cells": [
  {
   "cell_type": "markdown",
   "metadata": {},
   "source": [
    "# JupyterLab Basics\n",
    "\n",
    "Jupyter is a free, open-source platform for developing interactive code; I will primarily be focusing on Python for data science and machine learning but the platform supports **over 40 programming languages** so we will see how I grow into this really interesting platform. The method for interpreting code in the browser is provided by *kernels*, the Python kernel is already installed on my system but to learn how to install other kernels (which I would like to do in future), you can go [here](https://github.com/jupyter/jupyter/wiki/Jupyter-kernels). \n",
    "\n",
    "I am now using [JupyterLab](https://jupyterlab.readthedocs.io/en/stable/) instead of Jupyter notebooks, JupyterLab is a next-generation interface that incorporates all of the features of Jupyter notebooks in a single window. \n",
    "\n",
    "JupyterLab is a user interface that includes multiple components of the Jupyter Notebooks all in one palce, one thing to note is that it is not an extension of the Jupyter notebook UI, it is a *reimplementation* of the UI, it includes all of the classic features of the Jupyter notebook with some added features.\n",
    "\n",
    "## User Interface\n",
    "\n",
    "Go to this page in the [documentation](https://jupyterlab.readthedocs.io/en/stable/user/interface.html) to learn more about the user interface and key components of JupyterLab, I won't go into too much detail here. One thing that should be noted is that JupyterLab serves essentially the same purpose as Jupyter notebooks but provides a very easy user interface for editing, creating and viewing notebooks, all the while integrating features such as the kernel, command line and others.\n",
    "\n",
    "## JupyterLab Extensions\n",
    "\n",
    "JupyterLab has many extensions, this is a key design feeature of the platform, it is built to be readily extendible, follow the link to read more about [extensions](https://jupyterlab.readthedocs.io/en/stable/user/extensions.html). Extensions are built off of [npm](https://www.npmjs.com/) packages, I have already installed ipywidgets and am planning on getting many more for data science. \n",
    "\n",
    "## Kernels\n",
    "\n",
    "As it srands (17/12/2018) I have both the IPython and the R kernel installed, I am working towards making interactive math webpages in python and doing statistical analysis in R.\n",
    "\n",
    "# Markdown Structure and Syntax\n",
    "\n",
    "First of all the notebooks are divided into *cells*, these can be for code, text or output. This cell is a text cell. Jupyter notebooks support native HTML or [Markdown](https://daringfireball.net/projects/markdown/), making a notebook as useful as a webpage. Markdown provides a really fast and intuitive way to quickly make HTML pages without the hassle of writing all of the tags; the goal of Markdown as stated by its creator John Gruber is to make \"Markdown’s formatting syntax ... as readable as possible.\" For basic details of the Markdown syntax, go [here](https://daringfireball.net/projects/markdown/syntax). For [a more in depth look at basic syntax go here](https://www.markdownguide.org/basic-syntax).\n",
    "\n",
    "Jupyter notebooks also support LaTeX, everyone's favourite math markup language. This includes both inline LaTeX equations, like $x = {-b \\pm \\sqrt{b^2-4ac} \\over 2a}$ and displayed math like: $$ x = {-b \\pm \\sqrt{b^2-4ac} \\over 2a} $$\n",
    "\n",
    "Which is pretty awesome! \n",
    "\n",
    "## More Markdown advanced syntax\n",
    "\n",
    "One of the more useful aspects of markdown is the ease with which you can create tables, this a place where you can read more about [extended syntax](https://www.markdownguide.org/extended-syntax/).\n",
    "\n",
    "### Codeblocks\n",
    "\n",
    "To create a codeblock simply indent everything using the tab key, I think that four spaces will also work\n",
    "\n",
    "    This is a codeblock\n",
    "    print(\"Heck yeah\")\n",
    "    \n",
    "This is not a code-block.\n",
    "\n",
    "\n",
    "### Tables\n",
    "\n",
    "To create a table in Markdown you use the vertical lines (|) seperated by atleast three hyphens:\n",
    "\n",
    "    | Header 1 | Header 2 | Header 3 |\n",
    "    | -------- | -------- | -------- |\n",
    "    |  Entry 1 |  Entry 2 |  Entry 3 |\n",
    "    |  Entry 4 |  Entry 5 |  Entry 6 |\n",
    "    \n",
    "Will render as:\n",
    "\n",
    "| Header 1 | Header 2 | Header 3 |\n",
    "| -------- | -------- | -------- |\n",
    "|  Entry 1 |  Entry 2 |  Entry 3 |\n",
    "|  Entry 4 |  Entry 5 |  Entry 6 |\n",
    "\n",
    "# IPython and Notebooks\n",
    "\n",
    "The reason Jupyter Notebooks have become commonplace in datascience is because of the ease of use, shareability and compatibility; we can easily integrate complex scripts into our notebook, allowing for interactive math webpages. I am still learning python, so will mainly focus on how to plot things in python and then will delve deeper into what I want to do and where I want to go. \n",
    "\n",
    "The first library that I will delve into will be the mathematical library numpy, scipy and matplotlib; these are all incredibly useful for plotting mathematical functions."
   ]
  },
  {
   "cell_type": "code",
   "execution_count": null,
   "metadata": {},
   "outputs": [],
   "source": [
    "print(\"Python is cool!\")"
   ]
  },
  {
   "cell_type": "markdown",
   "metadata": {},
   "source": [
    "## Advanced Features\n",
    "\n",
    "### Tab Completion\n",
    "\n",
    "To explore the structure of a given object in the IPython command line you can type `object_name.TAB` to explore the attributes of the object, this is especially useful when working with a new object. When using notebooks, simply press the key when you are inserting parameters or trying to finish a function call and it will give suggestions for how to complete the call. \n",
    "\n",
    "### Magics\n",
    "\n",
    "Magics are built-in [commands](https://ipython.readthedocs.io/en/stable/interactive/magics.html#built-in-magic-commands) that provide extra functionality, including but not limited to, timing the execution time of functions, incorporating different languages in cells and blocks; the link gives all of the built in magics with the IPython kernel. A magic is accessed by using an invalid operator, in python this is the `%` symbol, below is a list of all magics using the `%lsmagic` command.\n",
    "\n",
    "Note that when `%automagic` is on, the `%` prefix is not needed, in the case of Jupyter, magics are automatically enabled. "
   ]
  },
  {
   "cell_type": "code",
   "execution_count": null,
   "metadata": {},
   "outputs": [],
   "source": [
    "%lsmagic"
   ]
  },
  {
   "cell_type": "code",
   "execution_count": null,
   "metadata": {},
   "outputs": [],
   "source": []
  }
 ],
 "metadata": {
  "kernelspec": {
   "display_name": "Python 3",
   "language": "python",
   "name": "python3"
  },
  "language_info": {
   "codemirror_mode": {
    "name": "ipython",
    "version": 3
   },
   "file_extension": ".py",
   "mimetype": "text/x-python",
   "name": "python",
   "nbconvert_exporter": "python",
   "pygments_lexer": "ipython3",
   "version": "3.6.5"
  }
 },
 "nbformat": 4,
 "nbformat_minor": 2
}
