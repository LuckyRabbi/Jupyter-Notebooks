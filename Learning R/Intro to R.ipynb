{
 "cells": [
  {
   "cell_type": "markdown",
   "metadata": {},
   "source": [
    "# Learning R\n",
    "\n",
    "This Jupyter notebook aims to outline some of the core components of the [R](https://www.r-project.org/) programming language, because I am doing this in Jupyter, I have downloaded and installed the R kernel for Jupyter, using the Anaconda package manager; it was a little tricky but I got there in the end!\n",
    "\n",
    "This guide was conceived when reading the following: [r-bloggers](https://www.r-bloggers.com/the-5-most-effective-ways-to-learn-r/), [Rstudio](https://www.rstudio.com/online-learning/#r-programming); r-bloggers.com is a great place to keep up with the community and also to find all sorts of useful resources. Rstudio is a free IDE for R.\n",
    "\n",
    "R is a statistical language, first let's just see if the R kernel is working: it has worked. \n",
    "\n",
    "At any point, you can type `?method` and it will open the documentation for that method in the console."
   ]
  },
  {
   "cell_type": "code",
   "execution_count": 1,
   "metadata": {},
   "outputs": [],
   "source": [
    "?class"
   ]
  },
  {
   "cell_type": "markdown",
   "metadata": {},
   "source": [
    "## The basics\n",
    "\n",
    "I will be using this free DataCamp [intro to R](https://www.datacamp.com/courses/free-introduction-to-r) course to learn some of the basics of the R programming language. Let's get started.\n",
    "\n",
    "### Arithmetic\n",
    "\n",
    "Like other programming languages R has many inbuilt arithmetic operators, these are:\n",
    "- `+` the addition operator\n",
    "- `-` the subtraction operator\n",
    "- `/` the division operator\n",
    "- `*` the multiplication operator\n",
    "- `%%` the moulo operator\n",
    "- `^` the exponent operator\n",
    " \n",
    "These operations can be seen below and will be printed to the console."
   ]
  },
  {
   "cell_type": "code",
   "execution_count": null,
   "metadata": {},
   "outputs": [],
   "source": [
    "4 + 6 # Addition\n",
    "12 - 3 # Subtraction\n",
    "60/5 # Division\n",
    "3*5 # Multiplication\n",
    "60%%5 # Modulo\n",
    "3^6 # Exponentiation"
   ]
  },
  {
   "cell_type": "markdown",
   "metadata": {},
   "source": [
    "### Assigning Variables and Basic Data Types\n",
    "\n",
    "Unlike some of the languages you are familiar with at this point, R uses the `<-` operator to assign a value to a variable, the LHS is the variable and the RHS is the value. For example typing `x <- 4` would set the value of x to be 4. As in other languages you can then perform myriad operations to these variables in any way that you choose.\n",
    "\n",
    "The **basic data types** in R are `numeric` for a number like 63.1 and for natural numbers like 7, `logical` for true or false boolean values and `character` for a string of characters. You can check the type of a variable by calling the `class()` method which will return the type of the data.\n",
    "\n",
    "Notice that adding to values of different types will throw an error.\n",
    "\n",
    "Also note that R is **case sensistive**"
   ]
  },
  {
   "cell_type": "code",
   "execution_count": null,
   "metadata": {},
   "outputs": [],
   "source": [
    "# Making a bunch of variables and assigning them values\n",
    "patrick <- \"numpty\"\n",
    "my_integer <- 7\n",
    "my_numeric <- 63.1\n",
    "my_bool <- TRUE\n",
    "\n",
    "# my_integer + patrick will throw an error\n",
    "\n",
    "class(my_numeric)\n",
    "class(patrick)\n",
    "class(my_bool)\n",
    "class(my_integer)\n",
    "\n",
    "# typing the variable simply prints it.\n",
    "my_bool"
   ]
  },
  {
   "cell_type": "markdown",
   "metadata": {},
   "source": [
    "## Vectors\n",
    "\n",
    "Being a budding data scientist, I want some more robust ways of analysing data, the `vector` data type is perfect for this, it is a structure that contains a single kind of data, but as many of these as we want (practically speaking), a vector can only contain a single kind of data, like `numeric`, `complex`, `character` e.t.c.\n",
    "\n",
    "Fist of all we can creat a vector by again assigning a variable but this time we call the `c()` method which *combines* a number of elements, note that indexes in R start at 1, so to access the first element of our vector we will reference `my_vector[1]` instead of 0.\n",
    "\n",
    "### Operations\n",
    "\n",
    "Adding two vectors together will do an element-wise addition. This allows us to add vectors together to do something, note that the two vectors must be of the same size otherwise an error is thrown.\n",
    "\n",
    "There are other operations which may be useful too, these are things like the `mean()` and `sum()` methods, which will return the numerical mean and sum of a vector respectively.\n",
    "\n",
    "Like matrices below, we can perform operations on vectors that are element-wise.\n",
    "\n",
    "### Naming Vectors\n",
    "\n",
    "As a data scientist it is important to have a clear view of what we are analysing, to do this we will give the vector values that we are concerned with names, to do this we use the `names()` method and pass in the vector that we want to name and the names we want to assign to it. \n",
    "\n",
    "Below I have given a hypothetical vector of my spending for a week.\n",
    "\n",
    "We can also apply operations like `>` and `<` to find which days a certain amount of money was spend, applying the functions `sum()` and `mean()` allows us to find the total amount of money and the average amount of money spent.\n",
    "\n",
    "### Selecting Values from Vectors\n",
    "\n",
    "The most basic way to access a vector values is to use the syntax `vector[n]` where n is the position in the vector, we can also use the syntax `n:m` to select specific values, this is similar to Python slicing.\n",
    "\n",
    "We can go through data to find when certain values arise, for example, I check to see which days I spent more than 50 dollars, this selection vector can then be used to only select days that Is pent more than 50 dollars as shown below."
   ]
  },
  {
   "cell_type": "code",
   "execution_count": 17,
   "metadata": {},
   "outputs": [
    {
     "data": {
      "text/html": [
       "<ol class=list-inline>\n",
       "\t<li>1</li>\n",
       "\t<li>2</li>\n",
       "\t<li>3</li>\n",
       "\t<li>4</li>\n",
       "\t<li>5</li>\n",
       "</ol>\n"
      ],
      "text/latex": [
       "\\begin{enumerate*}\n",
       "\\item 1\n",
       "\\item 2\n",
       "\\item 3\n",
       "\\item 4\n",
       "\\item 5\n",
       "\\end{enumerate*}\n"
      ],
      "text/markdown": [
       "1. 1\n",
       "2. 2\n",
       "3. 3\n",
       "4. 4\n",
       "5. 5\n",
       "\n",
       "\n"
      ],
      "text/plain": [
       "[1] 1 2 3 4 5"
      ]
     },
     "metadata": {},
     "output_type": "display_data"
    },
    {
     "data": {
      "text/html": [
       "<ol class=list-inline>\n",
       "\t<li>'Pat'</li>\n",
       "\t<li>'is'</li>\n",
       "\t<li>'a'</li>\n",
       "\t<li>'numpty'</li>\n",
       "</ol>\n"
      ],
      "text/latex": [
       "\\begin{enumerate*}\n",
       "\\item 'Pat'\n",
       "\\item 'is'\n",
       "\\item 'a'\n",
       "\\item 'numpty'\n",
       "\\end{enumerate*}\n"
      ],
      "text/markdown": [
       "1. 'Pat'\n",
       "2. 'is'\n",
       "3. 'a'\n",
       "4. 'numpty'\n",
       "\n",
       "\n"
      ],
      "text/plain": [
       "[1] \"Pat\"    \"is\"     \"a\"      \"numpty\""
      ]
     },
     "metadata": {},
     "output_type": "display_data"
    },
    {
     "data": {
      "text/html": [
       "57"
      ],
      "text/latex": [
       "57"
      ],
      "text/markdown": [
       "57"
      ],
      "text/plain": [
       "[1] 57"
      ]
     },
     "metadata": {},
     "output_type": "display_data"
    },
    {
     "data": {
      "text/html": [
       "<ol class=list-inline>\n",
       "\t<li>1</li>\n",
       "\t<li>2</li>\n",
       "\t<li>3</li>\n",
       "</ol>\n"
      ],
      "text/latex": [
       "\\begin{enumerate*}\n",
       "\\item 1\n",
       "\\item 2\n",
       "\\item 3\n",
       "\\end{enumerate*}\n"
      ],
      "text/markdown": [
       "1. 1\n",
       "2. 2\n",
       "3. 3\n",
       "\n",
       "\n"
      ],
      "text/plain": [
       "[1] 1 2 3"
      ]
     },
     "metadata": {},
     "output_type": "display_data"
    },
    {
     "data": {
      "text/html": [
       "'character'"
      ],
      "text/latex": [
       "'character'"
      ],
      "text/markdown": [
       "'character'"
      ],
      "text/plain": [
       "[1] \"character\""
      ]
     },
     "metadata": {},
     "output_type": "display_data"
    },
    {
     "data": {
      "text/html": [
       "'numeric'"
      ],
      "text/latex": [
       "'numeric'"
      ],
      "text/markdown": [
       "'numeric'"
      ],
      "text/plain": [
       "[1] \"numeric\""
      ]
     },
     "metadata": {},
     "output_type": "display_data"
    },
    {
     "data": {
      "text/html": [
       "'logical'"
      ],
      "text/latex": [
       "'logical'"
      ],
      "text/markdown": [
       "'logical'"
      ],
      "text/plain": [
       "[1] \"logical\""
      ]
     },
     "metadata": {},
     "output_type": "display_data"
    },
    {
     "data": {
      "text/html": [
       "276.85"
      ],
      "text/latex": [
       "276.85"
      ],
      "text/markdown": [
       "276.85"
      ],
      "text/plain": [
       "[1] 276.85"
      ]
     },
     "metadata": {},
     "output_type": "display_data"
    },
    {
     "data": {
      "text/html": [
       "39.55"
      ],
      "text/latex": [
       "39.55"
      ],
      "text/markdown": [
       "39.55"
      ],
      "text/plain": [
       "[1] 39.55"
      ]
     },
     "metadata": {},
     "output_type": "display_data"
    },
    {
     "data": {
      "text/html": [
       "<dl class=dl-horizontal>\n",
       "\t<dt>Monday</dt>\n",
       "\t\t<dd>22.5</dd>\n",
       "\t<dt>Tuesday</dt>\n",
       "\t\t<dd>31</dd>\n",
       "\t<dt>Wednesday</dt>\n",
       "\t\t<dd>65.35</dd>\n",
       "\t<dt>Thursday</dt>\n",
       "\t\t<dd>22</dd>\n",
       "\t<dt>Friday</dt>\n",
       "\t\t<dd>0</dd>\n",
       "\t<dt>Saturday</dt>\n",
       "\t\t<dd>16</dd>\n",
       "\t<dt>Sunday</dt>\n",
       "\t\t<dd>120</dd>\n",
       "</dl>\n"
      ],
      "text/latex": [
       "\\begin{description*}\n",
       "\\item[Monday] 22.5\n",
       "\\item[Tuesday] 31\n",
       "\\item[Wednesday] 65.35\n",
       "\\item[Thursday] 22\n",
       "\\item[Friday] 0\n",
       "\\item[Saturday] 16\n",
       "\\item[Sunday] 120\n",
       "\\end{description*}\n"
      ],
      "text/markdown": [
       "Monday\n",
       ":   22.5Tuesday\n",
       ":   31Wednesday\n",
       ":   65.35Thursday\n",
       ":   22Friday\n",
       ":   0Saturday\n",
       ":   16Sunday\n",
       ":   120\n",
       "\n"
      ],
      "text/plain": [
       "   Monday   Tuesday Wednesday  Thursday    Friday  Saturday    Sunday \n",
       "    22.50     31.00     65.35     22.00      0.00     16.00    120.00 "
      ]
     },
     "metadata": {},
     "output_type": "display_data"
    },
    {
     "data": {
      "text/html": [
       "<dl class=dl-horizontal>\n",
       "\t<dt>Wednesday</dt>\n",
       "\t\t<dd>65.35</dd>\n",
       "\t<dt>Thursday</dt>\n",
       "\t\t<dd>22</dd>\n",
       "\t<dt>Friday</dt>\n",
       "\t\t<dd>0</dd>\n",
       "</dl>\n"
      ],
      "text/latex": [
       "\\begin{description*}\n",
       "\\item[Wednesday] 65.35\n",
       "\\item[Thursday] 22\n",
       "\\item[Friday] 0\n",
       "\\end{description*}\n"
      ],
      "text/markdown": [
       "Wednesday\n",
       ":   65.35Thursday\n",
       ":   22Friday\n",
       ":   0\n",
       "\n"
      ],
      "text/plain": [
       "Wednesday  Thursday    Friday \n",
       "    65.35     22.00      0.00 "
      ]
     },
     "metadata": {},
     "output_type": "display_data"
    },
    {
     "data": {
      "text/html": [
       "<dl class=dl-horizontal>\n",
       "\t<dt>Monday</dt>\n",
       "\t\t<dd>FALSE</dd>\n",
       "\t<dt>Tuesday</dt>\n",
       "\t\t<dd>FALSE</dd>\n",
       "\t<dt>Wednesday</dt>\n",
       "\t\t<dd>TRUE</dd>\n",
       "\t<dt>Thursday</dt>\n",
       "\t\t<dd>FALSE</dd>\n",
       "\t<dt>Friday</dt>\n",
       "\t\t<dd>FALSE</dd>\n",
       "\t<dt>Saturday</dt>\n",
       "\t\t<dd>FALSE</dd>\n",
       "\t<dt>Sunday</dt>\n",
       "\t\t<dd>TRUE</dd>\n",
       "</dl>\n"
      ],
      "text/latex": [
       "\\begin{description*}\n",
       "\\item[Monday] FALSE\n",
       "\\item[Tuesday] FALSE\n",
       "\\item[Wednesday] TRUE\n",
       "\\item[Thursday] FALSE\n",
       "\\item[Friday] FALSE\n",
       "\\item[Saturday] FALSE\n",
       "\\item[Sunday] TRUE\n",
       "\\end{description*}\n"
      ],
      "text/markdown": [
       "Monday\n",
       ":   FALSETuesday\n",
       ":   FALSEWednesday\n",
       ":   TRUEThursday\n",
       ":   FALSEFriday\n",
       ":   FALSESaturday\n",
       ":   FALSESunday\n",
       ":   TRUE\n",
       "\n"
      ],
      "text/plain": [
       "   Monday   Tuesday Wednesday  Thursday    Friday  Saturday    Sunday \n",
       "    FALSE     FALSE      TRUE     FALSE     FALSE     FALSE      TRUE "
      ]
     },
     "metadata": {},
     "output_type": "display_data"
    },
    {
     "data": {
      "text/html": [
       "<dl class=dl-horizontal>\n",
       "\t<dt>Wednesday</dt>\n",
       "\t\t<dd>65.35</dd>\n",
       "\t<dt>Sunday</dt>\n",
       "\t\t<dd>120</dd>\n",
       "</dl>\n"
      ],
      "text/latex": [
       "\\begin{description*}\n",
       "\\item[Wednesday] 65.35\n",
       "\\item[Sunday] 120\n",
       "\\end{description*}\n"
      ],
      "text/markdown": [
       "Wednesday\n",
       ":   65.35Sunday\n",
       ":   120\n",
       "\n"
      ],
      "text/plain": [
       "Wednesday    Sunday \n",
       "    65.35    120.00 "
      ]
     },
     "metadata": {},
     "output_type": "display_data"
    }
   ],
   "source": [
    "# How to instantiate a vector\n",
    "my_vector1 <- c(1,2,3,4,5)\n",
    "my_vector2 <- c(12,4,11,9,6)\n",
    "my_vector3 <- c(1,3,5)\n",
    "my_string_vector <- c(\"Pat\", \"is\", \"a\", \"numpty\")\n",
    "my_bool_vector <- c(TRUE, FALSE, TRUE, TRUE)\n",
    "\n",
    "# Printing a bunch of vectors, prints their elements\n",
    "my_vector1\n",
    "my_string_vector\n",
    "new_vector <- sum(my_vector1 + my_vector2)\n",
    "new_vector\n",
    "# my_vector1 + my_vector3 - Will throw an error, non-equal lengths.\n",
    "\n",
    "# Can print specific elements only too \n",
    "my_vector1[1:3]\n",
    "\n",
    "class(my_string_vector)\n",
    "class(my_vector1)\n",
    "class(my_bool_vector)\n",
    "\n",
    "# Making a vector and naming each element\n",
    "my_spending <- c(22.5, 31, 65.35, 22, 0, 16, 120)\n",
    "days <- c(\"Monday\", \"Tuesday\", \"Wednesday\", \"Thursday\", \"Friday\", \"Saturday\", \"Sunday\")\n",
    "\n",
    "# Find the sum and mean of my spending\n",
    "sum(my_spending)\n",
    "mean(my_spending)\n",
    "\n",
    "# Name the vector\n",
    "names(my_spending) <- days\n",
    "\n",
    "# Printing this will show the days that I spent different amounts of money\n",
    "my_spending\n",
    "\n",
    "# We can select specific values\n",
    "my_spending[3:5]\n",
    "\n",
    "# Finding the days that I spend more than 50 dollars, returns a vector showing the truth value of each entry\n",
    "g50_selection <- my_spending > 50\n",
    "g50_selection\n",
    "\n",
    "# Can also print out days that we spent > 50 dollars by using the selection vector, it will only select TRUE values\n",
    "g50 <- my_spending[g50_selection]\n",
    "g50\n"
   ]
  },
  {
   "cell_type": "markdown",
   "metadata": {},
   "source": [
    "## Matrices\n",
    "\n",
    "Matrices are another structure in R that is useful for analysing all sorts of data, a matrix in R is a structure that contains all the same datatypes and has *dimensionality*, they are very similar to vectors, however a vector is often treated as a component of a matrix. For example, a row or a column is a vector, and vectors together are a matrix.\n",
    "\n",
    "I am going to create a hypothetical matrix for my spending over the course of a few weeks to demonstrate some of the principles of matrices, \n",
    "\n",
    "### Creating a matrix\n",
    "\n",
    "The `matrix()` command is central to the initialisation of a matrix, it takes in multiple vectors and creates a matrix with a certain number of rows and columns. We can fill the matrix row by row by passing in `byrow=TRUE`, alternatively we can make this FALSE to fill it by column.\n",
    "\n",
    "When filling a matrix, the number of elements that are passed in to create the matrix must be a whole multiple of the number of rows, in other words, there must be enough elements that the matrix can be constructed without running out of elements.\n",
    "\n",
    "There are a few methods that you should become familiar with for manipulating vectors, these are methods like `cbind()` and `rbind()` that add new rows and columns to a matrix.\n",
    "\n",
    "### Operations\n",
    "\n",
    "Like matrices, we can perform operations on a matrix, the unary operations are element-wise, such as:\n",
    "- `+` elementwise addition\n",
    "- `-` elementwise subtraction\n",
    "- `*` elementwise multiplication\n",
    "- `/` elementwise division\n",
    "One can also perform standard matrix multiplication by using the `%*%` operator. \n",
    "\n",
    "There are also ways to sum the columns and rows by using the `colSums()` and `rowSums()` methods.\n",
    "\n",
    "### Naming matrices\n",
    "\n",
    "Just like vectors, it's a good idea to name our matrices, we can do this easily by naming both the rows and the columns of our matrix using the `rownames()` and `colnames()` and passing in the matrix we want to name and the names we want to assign to the rows and columns. \n",
    "\n",
    "### Selecting matrix elements\n",
    "\n",
    "Again, this is similar to vectors, we use the square brackets to select elements of our matrix, however this time we must be mindful that there are two dimensions to our matrix, so we must supply both a row and column that we are selecting from. This would be something like `our_matrix[1,2]` to get a single element, `our_matrix[1:3,3]` to get the third element of the first 3 rows and `our_matrix[,1]` to get the the first column of all of the rows. \n",
    "\n"
   ]
  },
  {
   "cell_type": "code",
   "execution_count": 26,
   "metadata": {},
   "outputs": [
    {
     "data": {
      "text/html": [
       "<table>\n",
       "<tbody>\n",
       "\t<tr><td>13.0 </td><td>65   </td><td>32.00</td><td> 0   </td><td>91   </td><td>12   </td><td> 14.3</td></tr>\n",
       "\t<tr><td>22.5 </td><td>31   </td><td>65.35</td><td>22   </td><td> 0   </td><td>16   </td><td>120.0</td></tr>\n",
       "</tbody>\n",
       "</table>\n"
      ],
      "text/latex": [
       "\\begin{tabular}{lllllll}\n",
       "\t 13.0  & 65    & 32.00 &  0    & 91    & 12    &  14.3\\\\\n",
       "\t 22.5  & 31    & 65.35 & 22    &  0    & 16    & 120.0\\\\\n",
       "\\end{tabular}\n"
      ],
      "text/markdown": [
       "\n",
       "| 13.0  | 65    | 32.00 |  0    | 91    | 12    |  14.3 | \n",
       "| 22.5  | 31    | 65.35 | 22    |  0    | 16    | 120.0 | \n",
       "\n",
       "\n"
      ],
      "text/plain": [
       "     [,1] [,2] [,3]  [,4] [,5] [,6] [,7] \n",
       "[1,] 13.0 65   32.00  0   91   12    14.3\n",
       "[2,] 22.5 31   65.35 22    0   16   120.0"
      ]
     },
     "metadata": {},
     "output_type": "display_data"
    },
    {
     "data": {
      "text/html": [
       "<table>\n",
       "<thead><tr><th></th><th scope=col>Monday</th><th scope=col>Tuesday</th><th scope=col>Wednesday</th><th scope=col>Thursday</th><th scope=col>Friday</th><th scope=col>Saturday</th><th scope=col>Sunday</th></tr></thead>\n",
       "<tbody>\n",
       "\t<tr><th scope=row>week1</th><td>13.0 </td><td>65   </td><td>32.00</td><td> 0   </td><td>91   </td><td>12   </td><td> 14.3</td></tr>\n",
       "\t<tr><th scope=row>week2</th><td>22.5 </td><td>31   </td><td>65.35</td><td>22   </td><td> 0   </td><td>16   </td><td>120.0</td></tr>\n",
       "\t<tr><th scope=row>week3</th><td> 0.0 </td><td>81   </td><td>14.00</td><td>16   </td><td>45   </td><td> 0   </td><td> 12.0</td></tr>\n",
       "</tbody>\n",
       "</table>\n"
      ],
      "text/latex": [
       "\\begin{tabular}{r|lllllll}\n",
       "  & Monday & Tuesday & Wednesday & Thursday & Friday & Saturday & Sunday\\\\\n",
       "\\hline\n",
       "\tweek1 & 13.0  & 65    & 32.00 &  0    & 91    & 12    &  14.3\\\\\n",
       "\tweek2 & 22.5  & 31    & 65.35 & 22    &  0    & 16    & 120.0\\\\\n",
       "\tweek3 &  0.0  & 81    & 14.00 & 16    & 45    &  0    &  12.0\\\\\n",
       "\\end{tabular}\n"
      ],
      "text/markdown": [
       "\n",
       "| <!--/--> | Monday | Tuesday | Wednesday | Thursday | Friday | Saturday | Sunday | \n",
       "|---|---|---|\n",
       "| week1 | 13.0  | 65    | 32.00 |  0    | 91    | 12    |  14.3 | \n",
       "| week2 | 22.5  | 31    | 65.35 | 22    |  0    | 16    | 120.0 | \n",
       "| week3 |  0.0  | 81    | 14.00 | 16    | 45    |  0    |  12.0 | \n",
       "\n",
       "\n"
      ],
      "text/plain": [
       "      Monday Tuesday Wednesday Thursday Friday Saturday Sunday\n",
       "week1 13.0   65      32.00      0       91     12        14.3 \n",
       "week2 22.5   31      65.35     22        0     16       120.0 \n",
       "week3  0.0   81      14.00     16       45      0        12.0 "
      ]
     },
     "metadata": {},
     "output_type": "display_data"
    },
    {
     "data": {
      "text/html": [
       "48.7666666666667"
      ],
      "text/latex": [
       "48.7666666666667"
      ],
      "text/markdown": [
       "48.7666666666667"
      ],
      "text/plain": [
       "[1] 48.76667"
      ]
     },
     "metadata": {},
     "output_type": "display_data"
    },
    {
     "data": {
      "text/html": [
       "<dl class=dl-horizontal>\n",
       "\t<dt>week1</dt>\n",
       "\t\t<dd>227.3</dd>\n",
       "\t<dt>week2</dt>\n",
       "\t\t<dd>276.85</dd>\n",
       "\t<dt>week3</dt>\n",
       "\t\t<dd>168</dd>\n",
       "</dl>\n"
      ],
      "text/latex": [
       "\\begin{description*}\n",
       "\\item[week1] 227.3\n",
       "\\item[week2] 276.85\n",
       "\\item[week3] 168\n",
       "\\end{description*}\n"
      ],
      "text/markdown": [
       "week1\n",
       ":   227.3week2\n",
       ":   276.85week3\n",
       ":   168\n",
       "\n"
      ],
      "text/plain": [
       " week1  week2  week3 \n",
       "227.30 276.85 168.00 "
      ]
     },
     "metadata": {},
     "output_type": "display_data"
    }
   ],
   "source": [
    "# Creating a matrix with 4 rows, we have 8 elements so we will make 2 columns in each row, each row counting upwards.\n",
    "my_matrix <- matrix(1:8, byrow=TRUE, nrow=4)\n",
    "#my_matrix\n",
    "\n",
    "# We could fill this by column, meaning that each column will contain 1-4 and 5-8\n",
    "my_matrix <- matrix(1:8, byrow=FALSE, nrow=4)\n",
    "#my_matrix\n",
    "\n",
    "week1 <- c(13, 65, 32, 0, 91, 12, 14.3)\n",
    "week2 <- c(22.5, 31, 65.35, 22, 0, 16, 120)\n",
    "week3 <- c(0, 81, 14, 16, 45, 0, 12)\n",
    "\n",
    "row_names <- c(\"week1\", \"week2\")\n",
    "col_names <- c(\"Monday\", \"Tuesday\", \"Wednesday\", \"Thursday\", \"Friday\", \"Saturday\", \"Sunday\")\n",
    "\n",
    "spending_matrix <- matrix(c(week1, week2), byrow=TRUE, nrow=2)\n",
    "spending_matrix\n",
    "\n",
    "# We can now name the matrix using our name vectors\n",
    "rownames(spending_matrix) <- row_names\n",
    "colnames(spending_matrix) <- col_names\n",
    "\n",
    "# If we want to add another row, i.e. another week, we can use the rbind() method\n",
    "spending_matrix <- rbind(spending_matrix, week3)\n",
    "spending_matrix\n",
    "\n",
    "# We could see the average amount spent on a sunday\n",
    "mean(spending_matrix[,7])\n",
    "\n",
    "# Or the total spent each week\n",
    "aves <- rowSums(spending_matrix)\n",
    "aves"
   ]
  },
  {
   "cell_type": "markdown",
   "metadata": {},
   "source": [
    "## Factors\n",
    "\n",
    "Factors are an important data structure in R, it is used for *categorical variables*, there are two types of categorical variables\n",
    "- nominal categorical variables\n",
    "- ordinal categorical variables\n",
    "A *nominal categorical variable* is one that does not have an implied order, it is impossible to say which has a greater value than the other,for example we could have a `person_vector`, with the categories `\"name\"`, `\"gender\"`, `\"ethnicity\"`, where each of these variables does not have a greater importance or value than the others. \n",
    "\n",
    "On the other hand, an *ordinal categorical variable* has some sort of natural order, where values are lower or higher than others, for example we could have `temperature_vector` with the categories `\"Low\"`, `\"Medium\"` and `\"High\"`, it is clear that these have a natural order, which we have to specify when defining the factor. We do this by passing in the parameter `order=TRUE` and then `levels=[]` which is the order of the factor. \n",
    "\n",
    "### Levels\n",
    "\n",
    "Levels are often used to clarify bits of data, for example I have a hypothetical vector for sexes of participants of a survey, if I wanted to cahnge the abbreviations to Male and Female, I can specify the levels. If none is specified when the factor is made, R will automatically assign levels in alphabetical order\n",
    "\n",
    "### Summaries\n",
    "\n",
    "A very useful tool for figuring out what data we have is the `summary()` method, this will give us a summary of the contents of a variable. By identifying the factor levels of a factor R is able to tell us how many of each category we have! "
   ]
  },
  {
   "cell_type": "code",
   "execution_count": 8,
   "metadata": {},
   "outputs": [
    {
     "data": {
      "text/html": [
       "<ol class=list-inline>\n",
       "\t<li>'F'</li>\n",
       "\t<li>'M'</li>\n",
       "</ol>\n"
      ],
      "text/latex": [
       "\\begin{enumerate*}\n",
       "\\item 'F'\n",
       "\\item 'M'\n",
       "\\end{enumerate*}\n"
      ],
      "text/markdown": [
       "1. 'F'\n",
       "2. 'M'\n",
       "\n",
       "\n"
      ],
      "text/plain": [
       "[1] \"F\" \"M\""
      ]
     },
     "metadata": {},
     "output_type": "display_data"
    },
    {
     "data": {
      "text/html": [
       "<ol class=list-inline>\n",
       "\t<li>Male</li>\n",
       "\t<li>Female</li>\n",
       "\t<li>Male</li>\n",
       "\t<li>Female</li>\n",
       "\t<li>Female</li>\n",
       "\t<li>Female</li>\n",
       "\t<li>Male</li>\n",
       "</ol>\n",
       "\n",
       "<details>\n",
       "\t<summary style=display:list-item;cursor:pointer>\n",
       "\t\t<strong>Levels</strong>:\n",
       "\t</summary>\n",
       "\t<ol class=list-inline>\n",
       "\t\t<li>'Female'</li>\n",
       "\t\t<li>'Male'</li>\n",
       "\t</ol>\n",
       "</details>"
      ],
      "text/latex": [
       "\\begin{enumerate*}\n",
       "\\item Male\n",
       "\\item Female\n",
       "\\item Male\n",
       "\\item Female\n",
       "\\item Female\n",
       "\\item Female\n",
       "\\item Male\n",
       "\\end{enumerate*}\n",
       "\n",
       "\\emph{Levels}: \\begin{enumerate*}\n",
       "\\item 'Female'\n",
       "\\item 'Male'\n",
       "\\end{enumerate*}\n"
      ],
      "text/markdown": [
       "1. Male\n",
       "2. Female\n",
       "3. Male\n",
       "4. Female\n",
       "5. Female\n",
       "6. Female\n",
       "7. Male\n",
       "\n",
       "\n",
       "\n",
       "**Levels**: 1. 'Female'\n",
       "2. 'Male'\n",
       "\n",
       "\n"
      ],
      "text/plain": [
       "[1] Male   Female Male   Female Female Female Male  \n",
       "Levels: Female Male"
      ]
     },
     "metadata": {},
     "output_type": "display_data"
    },
    {
     "data": {
      "text/html": [
       "<dl class=dl-horizontal>\n",
       "\t<dt>Female</dt>\n",
       "\t\t<dd>4</dd>\n",
       "\t<dt>Male</dt>\n",
       "\t\t<dd>3</dd>\n",
       "</dl>\n"
      ],
      "text/latex": [
       "\\begin{description*}\n",
       "\\item[Female] 4\n",
       "\\item[Male] 3\n",
       "\\end{description*}\n"
      ],
      "text/markdown": [
       "Female\n",
       ":   4Male\n",
       ":   3\n",
       "\n"
      ],
      "text/plain": [
       "Female   Male \n",
       "     4      3 "
      ]
     },
     "metadata": {},
     "output_type": "display_data"
    },
    {
     "data": {
      "text/html": [
       "TRUE"
      ],
      "text/latex": [
       "TRUE"
      ],
      "text/markdown": [
       "TRUE"
      ],
      "text/plain": [
       "[1] TRUE"
      ]
     },
     "metadata": {},
     "output_type": "display_data"
    }
   ],
   "source": [
    "# Creating a factor of nominal categorical variables, there is no natural order\n",
    "sex_vector <- c(\"M\", \"F\", \"M\", \"F\", \"F\", \"F\", \"M\")\n",
    "sex_factor <- factor(sex_vector)\n",
    "\n",
    "# R automatically assigns levels by alphabetical order\n",
    "levels(sex_factor)\n",
    "\n",
    "levels(sex_factor) <- c(\"Female\",\"Male\")\n",
    "sex_factor\n",
    "\n",
    "# sex_factor[1] < sex_factor[2] will throw an error because there is no order to the variables!\n",
    "summary(sex_factor)\n",
    "\n",
    "# Creating a factor of ordinal categorical variables\n",
    "# A hypothetical vector of productivity of different days\n",
    "productivity_vector <- c(\"medium\", \"low\", \"high\", \"medium\")\n",
    "productivity_factor <- factor(productivity_vector,\n",
    "                              order=TRUE,\n",
    "                              levels=c(\"low\",\"medium\",\"high\"))\n",
    "\n",
    "# Was day 3 more productive than day 1?\n",
    "day1 = productivity_factor[1]\n",
    "day3 = productivity_factor[3]\n",
    "\n",
    "day3 > day1\n"
   ]
  },
  {
   "cell_type": "markdown",
   "metadata": {},
   "source": [
    "## Data Frames\n",
    "\n",
    "A data frame is another structure in R that is used for storing a number of different data types, whereas a matrix would be best suited to data all of the same type a data frame is used for things like market research surveys which may require data of many different types. The columns are for each individual data type and the rows are for observations. \n",
    "\n",
    "R has some inbuilt data frames, one such dataframe is `mtcars`, which is survey data taken from 32 automobiles, looking at things like horsepower and weight, we can have a look at the data frame by typing `?mtcars`, this opens up the dataframe in the console. \n",
    "\n",
    "### head() and tail()\n",
    "\n",
    "Because we are working with a lot of data in some cases it can be useful to look at the first and last observations in the data frame, to do this we use the `head()` and `tail()` methods respectively.\n",
    "\n",
    "### Structure of a Data Frame\n",
    "\n",
    "To probes the structure of a given data frame we can use the `str()` method, this will tell us the number of observations (32 for mtcars) and the number of variables (11).\n",
    "\n",
    "### Selecting values\n",
    "\n",
    "Just like matrices and vectors we can use the `[]` notation to select elements, again if we want to get all of the values from a column or row we leave the entry blank, e.g. `df[1,]` will select all of the columns of the first row and `df[,1]` will select all of the entries of the first column.\n",
    "\n",
    "We can also select columns and rows by using the name of the data, for example in the code below we have a data frame consisting of information about planets in our solar system, to print out the rotation of all of the planets we can simply type `planets_df[,\"rotation\"]`\n",
    "\n",
    "Sometimes we want to print out a specific column, or one peice of data about each row, we could use the bracket notation e.g. `planets_df[,\"rings\"]`, however there is a shortcut where we can use the dollar sign to select the entire column as seen in the code below.\n",
    "\n",
    "We can also use the function `subset()` to generate a subset of our data frame, this is particularly useful for selecting only some data according to some comparitive, for example to select all planets larger than earth we could write `subset(planets_df,subset=diameter>1)`\n",
    "\n",
    "### Sorting \n",
    "\n",
    "Sorting is essential to data science, a very useful function in R is `order()` which returns the order of a given variable such as a matrix or a vector. It can be used to shuffle the order of a data frame too, for example we can print out the smallest to largest planets."
   ]
  },
  {
   "cell_type": "code",
   "execution_count": 12,
   "metadata": {},
   "outputs": [
    {
     "data": {
      "text/html": [
       "<table>\n",
       "<thead><tr><th scope=col>name</th><th scope=col>type</th><th scope=col>diameter</th><th scope=col>rotation</th><th scope=col>rings</th></tr></thead>\n",
       "<tbody>\n",
       "\t<tr><td>Mercury           </td><td>Terrestrial planet</td><td> 0.382            </td><td>  58.64           </td><td>FALSE             </td></tr>\n",
       "\t<tr><td>Venus             </td><td>Terrestrial planet</td><td> 0.949            </td><td>-243.02           </td><td>FALSE             </td></tr>\n",
       "\t<tr><td>Earth             </td><td>Terrestrial planet</td><td> 1.000            </td><td>   1.00           </td><td>FALSE             </td></tr>\n",
       "\t<tr><td>Mars              </td><td>Terrestrial planet</td><td> 0.532            </td><td>   1.03           </td><td>FALSE             </td></tr>\n",
       "\t<tr><td>Jupiter           </td><td>Gas giant         </td><td>11.209            </td><td>   0.41           </td><td> TRUE             </td></tr>\n",
       "\t<tr><td>Saturn            </td><td>Gas giant         </td><td> 9.449            </td><td>   0.43           </td><td> TRUE             </td></tr>\n",
       "\t<tr><td>Uranus            </td><td>Gas giant         </td><td> 4.007            </td><td>  -0.72           </td><td> TRUE             </td></tr>\n",
       "\t<tr><td>Neptune           </td><td>Gas giant         </td><td> 3.883            </td><td>   0.67           </td><td> TRUE             </td></tr>\n",
       "</tbody>\n",
       "</table>\n"
      ],
      "text/latex": [
       "\\begin{tabular}{r|lllll}\n",
       " name & type & diameter & rotation & rings\\\\\n",
       "\\hline\n",
       "\t Mercury            & Terrestrial planet &  0.382             &   58.64            & FALSE             \\\\\n",
       "\t Venus              & Terrestrial planet &  0.949             & -243.02            & FALSE             \\\\\n",
       "\t Earth              & Terrestrial planet &  1.000             &    1.00            & FALSE             \\\\\n",
       "\t Mars               & Terrestrial planet &  0.532             &    1.03            & FALSE             \\\\\n",
       "\t Jupiter            & Gas giant          & 11.209             &    0.41            &  TRUE             \\\\\n",
       "\t Saturn             & Gas giant          &  9.449             &    0.43            &  TRUE             \\\\\n",
       "\t Uranus             & Gas giant          &  4.007             &   -0.72            &  TRUE             \\\\\n",
       "\t Neptune            & Gas giant          &  3.883             &    0.67            &  TRUE             \\\\\n",
       "\\end{tabular}\n"
      ],
      "text/markdown": [
       "\n",
       "name | type | diameter | rotation | rings | \n",
       "|---|---|---|---|---|---|---|---|\n",
       "| Mercury            | Terrestrial planet |  0.382             |   58.64            | FALSE              | \n",
       "| Venus              | Terrestrial planet |  0.949             | -243.02            | FALSE              | \n",
       "| Earth              | Terrestrial planet |  1.000             |    1.00            | FALSE              | \n",
       "| Mars               | Terrestrial planet |  0.532             |    1.03            | FALSE              | \n",
       "| Jupiter            | Gas giant          | 11.209             |    0.41            |  TRUE              | \n",
       "| Saturn             | Gas giant          |  9.449             |    0.43            |  TRUE              | \n",
       "| Uranus             | Gas giant          |  4.007             |   -0.72            |  TRUE              | \n",
       "| Neptune            | Gas giant          |  3.883             |    0.67            |  TRUE              | \n",
       "\n",
       "\n"
      ],
      "text/plain": [
       "  name    type               diameter rotation rings\n",
       "1 Mercury Terrestrial planet  0.382     58.64  FALSE\n",
       "2 Venus   Terrestrial planet  0.949   -243.02  FALSE\n",
       "3 Earth   Terrestrial planet  1.000      1.00  FALSE\n",
       "4 Mars    Terrestrial planet  0.532      1.03  FALSE\n",
       "5 Jupiter Gas giant          11.209      0.41   TRUE\n",
       "6 Saturn  Gas giant           9.449      0.43   TRUE\n",
       "7 Uranus  Gas giant           4.007     -0.72   TRUE\n",
       "8 Neptune Gas giant           3.883      0.67   TRUE"
      ]
     },
     "metadata": {},
     "output_type": "display_data"
    },
    {
     "data": {
      "text/html": [
       "0.41"
      ],
      "text/latex": [
       "0.41"
      ],
      "text/markdown": [
       "0.41"
      ],
      "text/plain": [
       "[1] 0.41"
      ]
     },
     "metadata": {},
     "output_type": "display_data"
    },
    {
     "data": {
      "text/html": [
       "<ol class=list-inline>\n",
       "\t<li>Terrestrial planet</li>\n",
       "\t<li>Terrestrial planet</li>\n",
       "\t<li>Terrestrial planet</li>\n",
       "\t<li>Terrestrial planet</li>\n",
       "</ol>\n",
       "\n",
       "<details>\n",
       "\t<summary style=display:list-item;cursor:pointer>\n",
       "\t\t<strong>Levels</strong>:\n",
       "\t</summary>\n",
       "\t<ol class=list-inline>\n",
       "\t\t<li>'Gas giant'</li>\n",
       "\t\t<li>'Terrestrial planet'</li>\n",
       "\t</ol>\n",
       "</details>"
      ],
      "text/latex": [
       "\\begin{enumerate*}\n",
       "\\item Terrestrial planet\n",
       "\\item Terrestrial planet\n",
       "\\item Terrestrial planet\n",
       "\\item Terrestrial planet\n",
       "\\end{enumerate*}\n",
       "\n",
       "\\emph{Levels}: \\begin{enumerate*}\n",
       "\\item 'Gas giant'\n",
       "\\item 'Terrestrial planet'\n",
       "\\end{enumerate*}\n"
      ],
      "text/markdown": [
       "1. Terrestrial planet\n",
       "2. Terrestrial planet\n",
       "3. Terrestrial planet\n",
       "4. Terrestrial planet\n",
       "\n",
       "\n",
       "\n",
       "**Levels**: 1. 'Gas giant'\n",
       "2. 'Terrestrial planet'\n",
       "\n",
       "\n"
      ],
      "text/plain": [
       "[1] Terrestrial planet Terrestrial planet Terrestrial planet Terrestrial planet\n",
       "Levels: Gas giant Terrestrial planet"
      ]
     },
     "metadata": {},
     "output_type": "display_data"
    },
    {
     "data": {
      "text/html": [
       "<table>\n",
       "<thead><tr><th></th><th scope=col>name</th><th scope=col>type</th><th scope=col>diameter</th><th scope=col>rotation</th><th scope=col>rings</th></tr></thead>\n",
       "<tbody>\n",
       "\t<tr><th scope=row>5</th><td>Jupiter  </td><td>Gas giant</td><td>11.209   </td><td> 0.41    </td><td>TRUE     </td></tr>\n",
       "\t<tr><th scope=row>6</th><td>Saturn   </td><td>Gas giant</td><td> 9.449   </td><td> 0.43    </td><td>TRUE     </td></tr>\n",
       "\t<tr><th scope=row>7</th><td>Uranus   </td><td>Gas giant</td><td> 4.007   </td><td>-0.72    </td><td>TRUE     </td></tr>\n",
       "\t<tr><th scope=row>8</th><td>Neptune  </td><td>Gas giant</td><td> 3.883   </td><td> 0.67    </td><td>TRUE     </td></tr>\n",
       "</tbody>\n",
       "</table>\n"
      ],
      "text/latex": [
       "\\begin{tabular}{r|lllll}\n",
       "  & name & type & diameter & rotation & rings\\\\\n",
       "\\hline\n",
       "\t5 & Jupiter   & Gas giant & 11.209    &  0.41     & TRUE     \\\\\n",
       "\t6 & Saturn    & Gas giant &  9.449    &  0.43     & TRUE     \\\\\n",
       "\t7 & Uranus    & Gas giant &  4.007    & -0.72     & TRUE     \\\\\n",
       "\t8 & Neptune   & Gas giant &  3.883    &  0.67     & TRUE     \\\\\n",
       "\\end{tabular}\n"
      ],
      "text/markdown": [
       "\n",
       "| <!--/--> | name | type | diameter | rotation | rings | \n",
       "|---|---|---|---|\n",
       "| 5 | Jupiter   | Gas giant | 11.209    |  0.41     | TRUE      | \n",
       "| 6 | Saturn    | Gas giant |  9.449    |  0.43     | TRUE      | \n",
       "| 7 | Uranus    | Gas giant |  4.007    | -0.72     | TRUE      | \n",
       "| 8 | Neptune   | Gas giant |  3.883    |  0.67     | TRUE      | \n",
       "\n",
       "\n"
      ],
      "text/plain": [
       "  name    type      diameter rotation rings\n",
       "5 Jupiter Gas giant 11.209    0.41    TRUE \n",
       "6 Saturn  Gas giant  9.449    0.43    TRUE \n",
       "7 Uranus  Gas giant  4.007   -0.72    TRUE \n",
       "8 Neptune Gas giant  3.883    0.67    TRUE "
      ]
     },
     "metadata": {},
     "output_type": "display_data"
    },
    {
     "data": {
      "text/html": [
       "<table>\n",
       "<thead><tr><th></th><th scope=col>name</th><th scope=col>type</th><th scope=col>diameter</th><th scope=col>rotation</th><th scope=col>rings</th></tr></thead>\n",
       "<tbody>\n",
       "\t<tr><th scope=row>1</th><td>Mercury           </td><td>Terrestrial planet</td><td>0.382             </td><td>58.64             </td><td>FALSE             </td></tr>\n",
       "\t<tr><th scope=row>4</th><td>Mars              </td><td>Terrestrial planet</td><td>0.532             </td><td> 1.03             </td><td>FALSE             </td></tr>\n",
       "</tbody>\n",
       "</table>\n"
      ],
      "text/latex": [
       "\\begin{tabular}{r|lllll}\n",
       "  & name & type & diameter & rotation & rings\\\\\n",
       "\\hline\n",
       "\t1 & Mercury            & Terrestrial planet & 0.382              & 58.64              & FALSE             \\\\\n",
       "\t4 & Mars               & Terrestrial planet & 0.532              &  1.03              & FALSE             \\\\\n",
       "\\end{tabular}\n"
      ],
      "text/markdown": [
       "\n",
       "| <!--/--> | name | type | diameter | rotation | rings | \n",
       "|---|---|\n",
       "| 1 | Mercury            | Terrestrial planet | 0.382              | 58.64              | FALSE              | \n",
       "| 4 | Mars               | Terrestrial planet | 0.532              |  1.03              | FALSE              | \n",
       "\n",
       "\n"
      ],
      "text/plain": [
       "  name    type               diameter rotation rings\n",
       "1 Mercury Terrestrial planet 0.382    58.64    FALSE\n",
       "4 Mars    Terrestrial planet 0.532     1.03    FALSE"
      ]
     },
     "metadata": {},
     "output_type": "display_data"
    },
    {
     "data": {
      "text/html": [
       "<table>\n",
       "<thead><tr><th></th><th scope=col>name</th><th scope=col>type</th><th scope=col>diameter</th><th scope=col>rotation</th><th scope=col>rings</th></tr></thead>\n",
       "<tbody>\n",
       "\t<tr><th scope=row>1</th><td>Mercury           </td><td>Terrestrial planet</td><td> 0.382            </td><td>  58.64           </td><td>FALSE             </td></tr>\n",
       "\t<tr><th scope=row>4</th><td>Mars              </td><td>Terrestrial planet</td><td> 0.532            </td><td>   1.03           </td><td>FALSE             </td></tr>\n",
       "\t<tr><th scope=row>2</th><td>Venus             </td><td>Terrestrial planet</td><td> 0.949            </td><td>-243.02           </td><td>FALSE             </td></tr>\n",
       "\t<tr><th scope=row>3</th><td>Earth             </td><td>Terrestrial planet</td><td> 1.000            </td><td>   1.00           </td><td>FALSE             </td></tr>\n",
       "\t<tr><th scope=row>8</th><td>Neptune           </td><td>Gas giant         </td><td> 3.883            </td><td>   0.67           </td><td> TRUE             </td></tr>\n",
       "\t<tr><th scope=row>7</th><td>Uranus            </td><td>Gas giant         </td><td> 4.007            </td><td>  -0.72           </td><td> TRUE             </td></tr>\n",
       "\t<tr><th scope=row>6</th><td>Saturn            </td><td>Gas giant         </td><td> 9.449            </td><td>   0.43           </td><td> TRUE             </td></tr>\n",
       "\t<tr><th scope=row>5</th><td>Jupiter           </td><td>Gas giant         </td><td>11.209            </td><td>   0.41           </td><td> TRUE             </td></tr>\n",
       "</tbody>\n",
       "</table>\n"
      ],
      "text/latex": [
       "\\begin{tabular}{r|lllll}\n",
       "  & name & type & diameter & rotation & rings\\\\\n",
       "\\hline\n",
       "\t1 & Mercury            & Terrestrial planet &  0.382             &   58.64            & FALSE             \\\\\n",
       "\t4 & Mars               & Terrestrial planet &  0.532             &    1.03            & FALSE             \\\\\n",
       "\t2 & Venus              & Terrestrial planet &  0.949             & -243.02            & FALSE             \\\\\n",
       "\t3 & Earth              & Terrestrial planet &  1.000             &    1.00            & FALSE             \\\\\n",
       "\t8 & Neptune            & Gas giant          &  3.883             &    0.67            &  TRUE             \\\\\n",
       "\t7 & Uranus             & Gas giant          &  4.007             &   -0.72            &  TRUE             \\\\\n",
       "\t6 & Saturn             & Gas giant          &  9.449             &    0.43            &  TRUE             \\\\\n",
       "\t5 & Jupiter            & Gas giant          & 11.209             &    0.41            &  TRUE             \\\\\n",
       "\\end{tabular}\n"
      ],
      "text/markdown": [
       "\n",
       "| <!--/--> | name | type | diameter | rotation | rings | \n",
       "|---|---|---|---|---|---|---|---|\n",
       "| 1 | Mercury            | Terrestrial planet |  0.382             |   58.64            | FALSE              | \n",
       "| 4 | Mars               | Terrestrial planet |  0.532             |    1.03            | FALSE              | \n",
       "| 2 | Venus              | Terrestrial planet |  0.949             | -243.02            | FALSE              | \n",
       "| 3 | Earth              | Terrestrial planet |  1.000             |    1.00            | FALSE              | \n",
       "| 8 | Neptune            | Gas giant          |  3.883             |    0.67            |  TRUE              | \n",
       "| 7 | Uranus             | Gas giant          |  4.007             |   -0.72            |  TRUE              | \n",
       "| 6 | Saturn             | Gas giant          |  9.449             |    0.43            |  TRUE              | \n",
       "| 5 | Jupiter            | Gas giant          | 11.209             |    0.41            |  TRUE              | \n",
       "\n",
       "\n"
      ],
      "text/plain": [
       "  name    type               diameter rotation rings\n",
       "1 Mercury Terrestrial planet  0.382     58.64  FALSE\n",
       "4 Mars    Terrestrial planet  0.532      1.03  FALSE\n",
       "2 Venus   Terrestrial planet  0.949   -243.02  FALSE\n",
       "3 Earth   Terrestrial planet  1.000      1.00  FALSE\n",
       "8 Neptune Gas giant           3.883      0.67   TRUE\n",
       "7 Uranus  Gas giant           4.007     -0.72   TRUE\n",
       "6 Saturn  Gas giant           9.449      0.43   TRUE\n",
       "5 Jupiter Gas giant          11.209      0.41   TRUE"
      ]
     },
     "metadata": {},
     "output_type": "display_data"
    }
   ],
   "source": [
    "# We can have a look at the mtcars dataframe\n",
    "#?mtcars\n",
    "\n",
    "#mtcars will print the whole dataframe\n",
    "\n",
    "# These will print the first and last few observations\n",
    "#head(mtcars)\n",
    "#tail(mtcars)\n",
    "\n",
    "# Probe the structure of the dataframe\n",
    "#str(mtcars)\n",
    "\n",
    "# We can also create a dataframe of our own\n",
    "# Definition of vectors\n",
    "name <- c(\"Mercury\", \"Venus\", \"Earth\", \"Mars\", \"Jupiter\", \"Saturn\", \"Uranus\", \"Neptune\")\n",
    "type <- c(\"Terrestrial planet\", \"Terrestrial planet\", \"Terrestrial planet\", \n",
    "          \"Terrestrial planet\", \"Gas giant\", \"Gas giant\", \"Gas giant\", \"Gas giant\")\n",
    "diameter <- c(0.382, 0.949, 1, 0.532, 11.209, 9.449, 4.007, 3.883)\n",
    "rotation <- c(58.64, -243.02, 1, 1.03, 0.41, 0.43, -0.72, 0.67)\n",
    "rings <- c(FALSE, FALSE, FALSE, FALSE, TRUE, TRUE, TRUE, TRUE)\n",
    "\n",
    "# Create a data frame from the vectors\n",
    "planets_df <- data.frame(name, type, diameter, rotation, rings)\n",
    "planets_df\n",
    "# Getting various data\n",
    "\n",
    "# Print out the rotation of jupiter at 5,4\n",
    "planets_df[5,4]\n",
    "\n",
    "# Print out the type of planet of the first 4 planets\n",
    "planets_df[1:4, \"type\"]\n",
    "\n",
    "# Prints out all the planets with rings\n",
    "planets_df[planets_df$rings,]\n",
    "\n",
    "# Prints out all planets with a faster roation thatn earth using subset\n",
    "subset(planets_df, subset=rotation>1)\n",
    "\n",
    "# Prints out smallest to largest planets\n",
    "planets_df[order(planets_df$diameter),]"
   ]
  },
  {
   "cell_type": "markdown",
   "metadata": {},
   "source": [
    "## Lists \n",
    "\n",
    "Lists are another type of data structure in R, they are used to encapsulate many other data types and are for this reason very useful for storing a wide variety of data, for example a list can easily store a vector, matrix and and data frame. "
   ]
  }
 ],
 "metadata": {
  "kernelspec": {
   "display_name": "R",
   "language": "R",
   "name": "ir"
  },
  "language_info": {
   "codemirror_mode": "r",
   "file_extension": ".r",
   "mimetype": "text/x-r-source",
   "name": "R",
   "pygments_lexer": "r",
   "version": "3.5.1"
  }
 },
 "nbformat": 4,
 "nbformat_minor": 2
}
